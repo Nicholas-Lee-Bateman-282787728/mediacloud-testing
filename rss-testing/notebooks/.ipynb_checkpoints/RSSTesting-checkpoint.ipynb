{
 "cells": [
  {
   "cell_type": "markdown",
   "metadata": {},
   "source": [
    "# RSS Testing\n",
    "\n",
    "Compare 3 methods of RSS feed collection:\n",
    "- Current MediaCloud API https://github.com/berkmancenter/mediacloud/blob/master/doc/api_2_0_spec/api_2_0_spec.md\n",
    "- Python feed_seeker library https://github.com/mitmedialab/feed_seeker\n",
    "- Manually generated list https://github.com/berkmancenter/mediacloud/issues/333"
   ]
  },
  {
   "cell_type": "code",
   "execution_count": 12,
   "metadata": {},
   "outputs": [],
   "source": [
    "## Standard imports\n",
    "%matplotlib inline\n",
    "import matplotlib.pyplot as plt\n",
    "import pandas \n",
    "from datetime import datetime\n",
    "import seaborn as sns\n",
    "import glob\n",
    "from os.path import basename\n",
    "sns.set_context('poster')\n",
    "import re\n",
    "import csv"
   ]
  },
  {
   "cell_type": "markdown",
   "metadata": {},
   "source": [
    "## Read manual list"
   ]
  },
  {
   "cell_type": "code",
   "execution_count": 15,
   "metadata": {},
   "outputs": [],
   "source": [
    "df_sources = pandas.read_csv('../data/random-sources.txt')"
   ]
  },
  {
   "cell_type": "code",
   "execution_count": 17,
   "metadata": {
    "scrolled": true
   },
   "outputs": [
    {
     "data": {
      "text/html": [
       "<div>\n",
       "<style scoped>\n",
       "    .dataframe tbody tr th:only-of-type {\n",
       "        vertical-align: middle;\n",
       "    }\n",
       "\n",
       "    .dataframe tbody tr th {\n",
       "        vertical-align: top;\n",
       "    }\n",
       "\n",
       "    .dataframe thead th {\n",
       "        text-align: right;\n",
       "    }\n",
       "</style>\n",
       "<table border=\"1\" class=\"dataframe\">\n",
       "  <thead>\n",
       "    <tr style=\"text-align: right;\">\n",
       "      <th></th>\n",
       "      <th>media_id</th>\n",
       "      <th>url</th>\n",
       "    </tr>\n",
       "  </thead>\n",
       "  <tbody>\n",
       "    <tr>\n",
       "      <th>0</th>\n",
       "      <td>1747</td>\n",
       "      <td>http://www.dailymail.co.uk/home/index.html</td>\n",
       "    </tr>\n",
       "    <tr>\n",
       "      <th>1</th>\n",
       "      <td>1750</td>\n",
       "      <td>http://www.telegraph.co.uk/</td>\n",
       "    </tr>\n",
       "    <tr>\n",
       "      <th>2</th>\n",
       "      <td>20120</td>\n",
       "      <td>http://www.nj.com</td>\n",
       "    </tr>\n",
       "    <tr>\n",
       "      <th>3</th>\n",
       "      <td>1</td>\n",
       "      <td>http://nytimes.com</td>\n",
       "    </tr>\n",
       "    <tr>\n",
       "      <th>4</th>\n",
       "      <td>9</td>\n",
       "      <td>http://www.chicagotribune.com/</td>\n",
       "    </tr>\n",
       "  </tbody>\n",
       "</table>\n",
       "</div>"
      ],
      "text/plain": [
       "   media_id                                         url\n",
       "0      1747  http://www.dailymail.co.uk/home/index.html\n",
       "1      1750                 http://www.telegraph.co.uk/\n",
       "2     20120                           http://www.nj.com\n",
       "3         1                          http://nytimes.com\n",
       "4         9              http://www.chicagotribune.com/"
      ]
     },
     "execution_count": 17,
     "metadata": {},
     "output_type": "execute_result"
    }
   ],
   "source": [
    "df_sources.head()"
   ]
  },
  {
   "cell_type": "markdown",
   "metadata": {},
   "source": [
    "### Here's the list of media sources we're testing. There should be 50. But there are 48.\n"
   ]
  },
  {
   "cell_type": "code",
   "execution_count": 54,
   "metadata": {},
   "outputs": [
    {
     "name": "stdout",
     "output_type": "stream",
     "text": [
      "50\n",
      "48\n"
     ]
    }
   ],
   "source": [
    "media_ids = list(df_sources.media_id)\n",
    "print(len(media_ids))\n",
    "print(len(set(media_ids)))"
   ]
  },
  {
   "cell_type": "code",
   "execution_count": 29,
   "metadata": {},
   "outputs": [],
   "source": [
    "df = pandas.read_csv('../data/feeds-manual.csv')"
   ]
  },
  {
   "cell_type": "code",
   "execution_count": 30,
   "metadata": {},
   "outputs": [
    {
     "data": {
      "text/html": [
       "<div>\n",
       "<style scoped>\n",
       "    .dataframe tbody tr th:only-of-type {\n",
       "        vertical-align: middle;\n",
       "    }\n",
       "\n",
       "    .dataframe tbody tr th {\n",
       "        vertical-align: top;\n",
       "    }\n",
       "\n",
       "    .dataframe thead th {\n",
       "        text-align: right;\n",
       "    }\n",
       "</style>\n",
       "<table border=\"1\" class=\"dataframe\">\n",
       "  <thead>\n",
       "    <tr style=\"text-align: right;\">\n",
       "      <th></th>\n",
       "      <th>media_id</th>\n",
       "      <th>url</th>\n",
       "      <th>feed_url</th>\n",
       "    </tr>\n",
       "  </thead>\n",
       "  <tbody>\n",
       "    <tr>\n",
       "      <th>0</th>\n",
       "      <td>1750</td>\n",
       "      <td>http://www.telegraph.co.uk/</td>\n",
       "      <td>http://announcements.telegraph.co.uk/rss-feeds</td>\n",
       "    </tr>\n",
       "    <tr>\n",
       "      <th>1</th>\n",
       "      <td>1750</td>\n",
       "      <td>http://www.telegraph.co.uk/</td>\n",
       "      <td>https://www.telegraph.co.uk/finance/rssfeeds/</td>\n",
       "    </tr>\n",
       "    <tr>\n",
       "      <th>2</th>\n",
       "      <td>1750</td>\n",
       "      <td>http://www.telegraph.co.uk/</td>\n",
       "      <td>https://feedly.com/i/subscription/feed%2Fhttp%...</td>\n",
       "    </tr>\n",
       "    <tr>\n",
       "      <th>3</th>\n",
       "      <td>9</td>\n",
       "      <td>http://www.chicagotribune.com/</td>\n",
       "      <td>http://www.chicagotribune.com/news/local/break...</td>\n",
       "    </tr>\n",
       "    <tr>\n",
       "      <th>4</th>\n",
       "      <td>9</td>\n",
       "      <td>http://www.chicagotribune.com/</td>\n",
       "      <td>http://www.chicagotribune.com/business/rss2.0.xml</td>\n",
       "    </tr>\n",
       "  </tbody>\n",
       "</table>\n",
       "</div>"
      ],
      "text/plain": [
       "   media_id                             url  \\\n",
       "0      1750     http://www.telegraph.co.uk/   \n",
       "1      1750     http://www.telegraph.co.uk/   \n",
       "2      1750     http://www.telegraph.co.uk/   \n",
       "3         9  http://www.chicagotribune.com/   \n",
       "4         9  http://www.chicagotribune.com/   \n",
       "\n",
       "                                            feed_url  \n",
       "0     http://announcements.telegraph.co.uk/rss-feeds  \n",
       "1      https://www.telegraph.co.uk/finance/rssfeeds/  \n",
       "2  https://feedly.com/i/subscription/feed%2Fhttp%...  \n",
       "3  http://www.chicagotribune.com/news/local/break...  \n",
       "4  http://www.chicagotribune.com/business/rss2.0.xml  "
      ]
     },
     "execution_count": 30,
     "metadata": {},
     "output_type": "execute_result"
    }
   ],
   "source": [
    "df.head()"
   ]
  },
  {
   "cell_type": "code",
   "execution_count": 48,
   "metadata": {},
   "outputs": [
    {
     "data": {
      "text/plain": [
       "1522"
      ]
     },
     "execution_count": 48,
     "metadata": {},
     "output_type": "execute_result"
    }
   ],
   "source": [
    "len(set(list(df.feed_url)))"
   ]
  },
  {
   "cell_type": "code",
   "execution_count": 51,
   "metadata": {},
   "outputs": [
    {
     "data": {
      "text/plain": [
       "42"
      ]
     },
     "execution_count": 51,
     "metadata": {},
     "output_type": "execute_result"
    }
   ],
   "source": [
    "len(set(list(df.media_id)))"
   ]
  },
  {
   "cell_type": "code",
   "execution_count": 40,
   "metadata": {},
   "outputs": [
    {
     "data": {
      "text/plain": [
       "{'media_id': 1747, 'url': 'http://www.dailymail.co.uk/home/index.html'}"
      ]
     },
     "execution_count": 40,
     "metadata": {},
     "output_type": "execute_result"
    }
   ],
   "source": [
    "sources_dict = df_sources.to_dict('records')\n",
    "sources_dict[0]"
   ]
  },
  {
   "cell_type": "markdown",
   "metadata": {},
   "source": [
    "### What's up with the missing sources in the manually generated one?\n"
   ]
  },
  {
   "cell_type": "code",
   "execution_count": 58,
   "metadata": {},
   "outputs": [
    {
     "data": {
      "text/plain": [
       "{29812, 57174, 118429, 348065, 385113, 385125}"
      ]
     },
     "execution_count": 58,
     "metadata": {},
     "output_type": "execute_result"
    }
   ],
   "source": [
    "set(media_ids) - set(list(df.media_id))"
   ]
  },
  {
   "cell_type": "code",
   "execution_count": 63,
   "metadata": {},
   "outputs": [
    {
     "data": {
      "text/plain": [
       "{'http://cn.linkedin.com/',\n",
       " 'http://in.news.yahoo.com#spider',\n",
       " 'http://wkrg.com/',\n",
       " 'http://www.superiodicoaldia.com/',\n",
       " 'http://www.theheritagenews.com/',\n",
       " 'http://www.viasat1.com.gh/vone/'}"
      ]
     },
     "execution_count": 63,
     "metadata": {},
     "output_type": "execute_result"
    }
   ],
   "source": [
    "set(df_sources.url) - set(df.url)"
   ]
  },
  {
   "cell_type": "code",
   "execution_count": null,
   "metadata": {},
   "outputs": [],
   "source": []
  },
  {
   "cell_type": "markdown",
   "metadata": {},
   "source": [
    "## Setup MC API"
   ]
  },
  {
   "cell_type": "code",
   "execution_count": 4,
   "metadata": {},
   "outputs": [],
   "source": [
    "import mediacloud, json, datetime\n",
    "mc = mediacloud.api.MediaCloud('7e5510da993cd51097818a48374dff44495cb251f859ec01d61aaae59284fb6c')"
   ]
  },
  {
   "cell_type": "code",
   "execution_count": 45,
   "metadata": {},
   "outputs": [
    {
     "name": "stdout",
     "output_type": "stream",
     "text": [
      "20\n",
      "http://www.dailymail.co.uk/news/columnist-1001421/alex-brummer.rss\n",
      "http://www.dailymail.co.uk/femail/columnist-1005042/alexandra-shulman.rss\n",
      "http://www.dailymail.co.uk/news/columnist-323/allison-pearson.rss\n",
      "http://www.dailymail.co.uk/news/columnist-463/amanda-platell.rss\n",
      "http://www.dailymail.co.uk/tvshowbiz/azstar/archives/amy-winehouse.rss\n",
      "http://www.dailymail.co.uk/news/columnist-248/andrew-alexander.rss\n",
      "http://www.dailymail.co.uk/news/columnist-1041755/andrew-pierce.rss\n",
      "http://www.dailymail.co.uk/sport/columnist-1031773/andy-roddick.rss\n",
      "http://www.dailymail.co.uk/sport/columnist-1040409/andy-townsend.rss\n",
      "http://www.dailymail.co.uk/sport/teampages/arsenal.rss\n",
      "http://www.dailymail.co.uk/sport/columnist-1000161/ash-wednesday.rss\n",
      "http://www.dailymail.co.uk/sport/teampages/aston-villa.rss\n",
      "http://www.dailymail.co.uk/tvshowbiz/columnist-1000601/baz-bamigboye.rss\n",
      "http://www.dailymail.co.uk/femail/columnist-465/bel-mooney.rss\n",
      "http://www.dailymail.co.uk/sport/teampages/birmingham-city.rss\n",
      "http://www.dailymail.co.uk/news/columnist-249/black-dog.rss\n",
      "http://www.dailymail.co.uk/sport/teampages/blackburn-rovers.rss\n",
      "http://www.dailymail.co.uk/sport/teampages/blackpool.rss\n",
      "http://www.dailymail.co.uk/sport/teampages/bolton-wanderers.rss\n",
      "http://www.dailymail.co.uk/tvshowbiz/azstar/archives/britney-spears.rss\n",
      "20\n",
      "http://www.telegraph.co.uk/finance/comment/ambroseevans_pritchard/rss\n",
      "http://www.telegraph.co.uk/culture/art/rss\n",
      "http://www.telegraph.co.uk/culture/rss\n",
      "http://www.telegraph.co.uk/fashion/beauty/rss\n",
      "http://www.telegraph.co.uk/culture/books/rss\n",
      "http://www.telegraph.co.uk/comment/columnists/borisjohnson/rss\n",
      "http://www.telegraph.co.uk/motoring/caradvice/rss\n",
      "http://www.telegraph.co.uk/motoring/carreviews/rss\n",
      "http://www.telegraph.co.uk/motoring/news/rss\n",
      "http://www.telegraph.co.uk/motoring/rss\n",
      "http://www.telegraph.co.uk/topics/christmas/rss\n",
      "http://www.telegraph.co.uk/comment/rss\n",
      "http://www.telegraph.co.uk/newsfeed/rss/arts-books-corduroy_mansions.xml\n",
      "http://www.telegraph.co.uk/sport/cricket/rss\n",
      "http://www.telegraph.co.uk/travel/cruises/rss\n",
      "http://www.telegraph.co.uk/culture/culturevideo/rss\n",
      "http://www.telegraph.co.uk/earth/earthnews/rss\n",
      "http://www.telegraph.co.uk/finance/economics/rss\n",
      "http://www.telegraph.co.uk/sport/motorsport/formulaone/rss\n",
      "http://www.telegraph.co.uk/family/rss\n",
      "20\n",
      "http://www.nj.com\n",
      "spider:http://www.nj.com\n",
      "http://blog.nj.com/fitness/atom.xml\n",
      "http://blog.nj.com/rutgers/atom.xml\n",
      "http://impact.nj.com/deals/atom.xml\n",
      "http://topics.nj.com/tag/elk/atom.xml\n",
      "http://blog.nj.com/mets_main/atom.xml\n",
      "http://blog.nj.com/red_bulls/atom.xml\n",
      "http://blog.nj.com/njv_impact/atom.xml\n",
      "http://topics.nj.com/tag/deal/atom.xml\n",
      "http://topics.nj.com/tag/hope/atom.xml\n",
      "http://topics.nj.com/tag/lodi/atom.xml\n",
      "http://topics.nj.com/tag/wall/atom.xml\n",
      "http://blog.nj.com/nets_impact/atom.xml\n",
      "http://topics.nj.com/tag/alpha/atom.xml\n",
      "http://topics.nj.com/tag/brick/atom.xml\n",
      "http://topics.nj.com/tag/buena/atom.xml\n",
      "http://topics.nj.com/tag/byram/atom.xml\n",
      "http://topics.nj.com/tag/clark/atom.xml\n",
      "http://topics.nj.com/tag/dover/atom.xml\n",
      "20\n",
      "http://bits.blogs.nytimes.com/rss2.xml\n",
      "http://dealbook.blogs.nytimes.com/rss2.xml\n",
      "http://feeds.feedburner.com/essentialknowledge\n",
      "http://www.nytimes.com/services/xml/rss/nyt/Africa.xml\n",
      "http://www.nytimes.com/services/xml/rss/nyt/Americas.xml\n",
      "http://www.nytimes.com/services/xml/rss/nyt/ArtandDesign.xml\n",
      "http://www.nytimes.com/services/xml/rss/nyt/Arts.xml\n",
      "http://www.nytimes.com/services/xml/rss/nyt/AsiaPacific.xml\n",
      "http://www.nytimes.com/services/xml/rss/nyt/Automobiles.xml\n",
      "http://www.nytimes.com/services/xml/rss/nyt/Baseball.xml\n",
      "http://www.nytimes.com/services/xml/rss/nyt/Books.xml\n",
      "http://www.nytimes.com/services/xml/rss/nyt/Business.xml\n",
      "http://www.nytimes.com/services/xml/rss/nyt/CollegeBasketball.xml\n",
      "http://www.nytimes.com/services/xml/rss/nyt/CollegeFootball.xml\n",
      "http://www.nytimes.com/services/xml/rss/nyt/DiningandWine.xml\n",
      "http://www.nytimes.com/services/xml/rss/nyt/Education.xml\n",
      "http://www.nytimes.com/services/xml/rss/nyt/Environment.xml\n",
      "http://www.nytimes.com/services/xml/rss/nyt/Escapes.xml\n",
      "http://www.nytimes.com/services/xml/rss/nyt/Europe.xml\n",
      "http://www.nytimes.com/services/xml/rss/nyt/FashionandStyle.xml\n",
      "20\n",
      "http://feeds.feedburner.com/chicagosports/aroundthebend\n",
      "http://feeds.chicagotribune.com/chicagosports/basketballjoans/\n",
      "http://feeds.chicagotribune.com/bunkermentality/\n",
      "http://feeds.chicagotribune.com/chicagotribune/changeofsubject/\n",
      "http://feeds.chicagotribune.com/chicagosports/highschool/\n",
      "http://feeds.chicagotribune.com/chicagotribune/cloutstreet/\n",
      "http://feeds.chicagotribune.com/chicagomag/dealestate/\n",
      "http://feeds.chicagotribune.com/chicagotribune_ellenwarren/\n",
      "http://feeds.chicagotribune.com/chicagosports/fullcourtpress\n",
      "http://feeds.chicagotribune.com/redeyechicago/ctablog/\n",
      "http://feeds.chicagotribune.com/chicagosports/hardball/\n",
      "http://feeds.chicagotribune.com/chicagotribune/hottopics/\n",
      "http://feeds.chicagotribune.com/chicagotribune/hypertext/\n",
      "http://feeds.chicagotribune.com/chicagosports/icing\n",
      "http://feeds.chicagotribune.com/chicagotribune_julieshealthclub/\n",
      "http://feeds.chicagotribune.com/chicagotribune/kickingtires/\n",
      "http://feeds.chicagotribune.com/chicagotribune/marksjarvisonmoney/\n",
      "http://feeds.chicagotribune.com/chicagotribune/takingoff/\n",
      "http://feeds.chicagotribune.com/chicagotribune/homefinder/\n",
      "http://feeds.chicagotribune.com/chicagotribune/popmachine/\n",
      "1\n",
      "http://tomthunkit.com/\n",
      "1\n",
      "http://www.wmur.com/#spider\n",
      "3\n",
      "http://shareblue.com/\n",
      "https://shareblue.com/feed/\n",
      "MediaWords::ImportStories::Feedly:http://shareblue.com/\n",
      "3\n",
      "http://grist.org//feed\n",
      "http://grist.org/\n",
      "http://grist.org/feed/\n",
      "15\n",
      "http://www.philly.com/philly_news.rss\n",
      "http://www.philly.com/philly_politics.rss\n",
      "http://www.philly.com/philly_business.rss\n",
      "http://www.philly.com/philly/entertainment/columnists/index.rss\n",
      "http://www.philly.com/inquirer/columnists/craig_laban/index.rss\n",
      "http://www.philly.com/philly_sports.rss\n",
      "http://www.philly.com/philly_sports_columnists.rss\n",
      "http://www.philly.com/philly_eagles.rss\n",
      "http://www.philly.com/philly_sixers.rss\n",
      "http://www.philly.com/sports_phillies.rss\n",
      "http://www.philly.com/philly_flyers.rss\n",
      "http://www.philly.com/inquirer/\n",
      "http://www.philly.com/inq_columnists.rss\n",
      "http://digital.olivesoftware.com/Olive/ODN/PhiladelphiaInquirer/Default.aspx\n",
      "http://www.philly.com/inquirer/\n",
      "20\n",
      "http://feeds.feedburner.com/chicagosports/aroundthebend\n",
      "http://feeds.chicagotribune.com/chicagosports/basketballjoans/\n",
      "http://feeds.chicagotribune.com/bunkermentality/\n",
      "http://feeds.chicagotribune.com/chicagotribune/changeofsubject/\n",
      "http://feeds.chicagotribune.com/chicagosports/highschool/\n",
      "http://feeds.chicagotribune.com/chicagotribune/cloutstreet/\n",
      "http://feeds.chicagotribune.com/chicagomag/dealestate/\n",
      "http://feeds.chicagotribune.com/chicagotribune_ellenwarren/\n",
      "http://feeds.chicagotribune.com/chicagosports/fullcourtpress\n",
      "http://feeds.chicagotribune.com/redeyechicago/ctablog/\n",
      "http://feeds.chicagotribune.com/chicagosports/hardball/\n",
      "http://feeds.chicagotribune.com/chicagotribune/hottopics/\n",
      "http://feeds.chicagotribune.com/chicagotribune/hypertext/\n",
      "http://feeds.chicagotribune.com/chicagosports/icing\n",
      "http://feeds.chicagotribune.com/chicagotribune_julieshealthclub/\n",
      "http://feeds.chicagotribune.com/chicagotribune/kickingtires/\n",
      "http://feeds.chicagotribune.com/chicagotribune/marksjarvisonmoney/\n",
      "http://feeds.chicagotribune.com/chicagotribune/takingoff/\n",
      "http://feeds.chicagotribune.com/chicagotribune/homefinder/\n",
      "http://feeds.chicagotribune.com/chicagotribune/popmachine/\n",
      "20\n",
      "http://blog.washingtonpost.com/achenblog/index.xml\n",
      "http://blog.washingtonpost.com/earlywarning/index.xml\n",
      "http://feeds.newsweek.com/newsweek/TechnologyScience\n",
      "http://feeds.newsweek.com/newsweek/TopNews\n",
      "http://feeds.newsweek.com/newsweek/WorldNews\n",
      "http://blog.washingtonpost.com/securityfix/index.xml\n",
      "http://blog.washingtonpost.com/thefix/index.xml\n",
      "http://www.washingtonpost.com/wp-dyn/rss/linkset/2005/03/25/LI2005032501837.xml\n",
      "http://feeds.washingtonpost.com/wp-dyn/rss/linkset/2005/11/29/LI2005112900615_xml\n",
      "http://www.washingtonpost.com/wp-dyn/rss/linkset/2005/03/24/LI2005032402809.xml\n",
      "http://www.washingtonpost.com/wp-dyn/rss/linkset/2005/03/25/LI2005032502593.xml\n",
      "http://feeds.washingtonpost.com/wp-dyn/rss/linkset/2005/03/24/LI2005032400129_xml\n",
      "http://feeds.washingtonpost.com/wp-dyn/rss/linkset/2005/03/24/LI2005032400125_xml\n",
      "http://feeds.washingtonpost.com/wp-dyn/rss/linkset/2005/03/24/LI2005032400436_xml\n",
      "http://www.washingtonpost.com/wp-dyn/rss/linkset/2005/03/28/LI2005032800573.xml\n",
      "http://www.washingtonpost.com/wp-dyn/rss/linkset/2005/04/18/LI2005041801007.xml\n",
      "http://feeds.washingtonpost.com/wp-dyn/rss/linkset/2005/03/24/LI2005032400534_xml\n",
      "http://www.washingtonpost.com/wp-dyn/rss/linkset/2005/03/24/LI2005032402470.xml\n",
      "http://www.washingtonpost.com/wp-dyn/rss/linkset/2005/03/25/LI2005032500698.xml\n",
      "http://feeds.washingtonpost.com/wp-dyn/rss/linkset/2005/03/24/LI2005032400548_xml\n"
     ]
    },
    {
     "name": "stdout",
     "output_type": "stream",
     "text": [
      "2\n",
      "http://newsok.com\n",
      "spider:http://newsok.com\n",
      "9\n",
      "http://www.telesurtv.net/rss\n",
      "http://telesurtv.net/\n",
      "http://www.telesurtv.net/rss/RssLatinoamerica.html\n",
      "http://www.telesurtv.net/rss/RssCultura.html\n",
      "http://www.telesurtv.net/rss/RssDeporte.html\n",
      "http://www.telesurtv.net/rss/RssPortada.html\n",
      "http://www.telesurtv.net/rss/RssOpinion.xml\n",
      "http://www.telesurtv.net/rss/RssMundo.html\n",
      "http://www.telesurtv.net/rss/RssBlogs.xml\n",
      "4\n",
      "http://www.rightwingwatch.org\n",
      "http://www.rightwingwatch.org/rss.xml\n",
      "http://www.rightwingwatch.org/feed/\n",
      "MediaWords::ImportStories::Feedly:http://www.rightwingwatch.org\n",
      "12\n",
      "http://www.commentarymagazine.com/blogs/index.php/feed\n",
      "http://www.commentarymagazine.com/blogs/index.php/category/connecting-the-dots/feed\n",
      "http://www.commentarymagazine.com/blogs/index.php/category/contentions/feed\n",
      "http://www.commentarymagazine.com/blogs/index.php/category/the-horizon/feed\n",
      "http://www.commentarymagazine.com/xml/subject.cfm?s=am\n",
      "http://www.commentarymagazine.com/xml/subject.cfm?s=al\n",
      "http://www.commentarymagazine.com/xml/subject.cfm?s=cr\n",
      "http://www.commentarymagazine.com/xml/subject.cfm?s=is\n",
      "http://www.commentarymagazine.com/xml/lastissue.cfm\n",
      "http://www.commentarymagazine.com/xml/subject.cfm?s=ps\n",
      "http://www.commentarymagazine.com/blogs\n",
      "https://www.commentarymagazine.com/feed/\n",
      "20\n",
      "http://www.telegraph.co.uk/finance/comment/ambroseevans_pritchard/rss\n",
      "http://www.telegraph.co.uk/culture/art/rss\n",
      "http://www.telegraph.co.uk/culture/rss\n",
      "http://www.telegraph.co.uk/fashion/beauty/rss\n",
      "http://www.telegraph.co.uk/culture/books/rss\n",
      "http://www.telegraph.co.uk/comment/columnists/borisjohnson/rss\n",
      "http://www.telegraph.co.uk/motoring/caradvice/rss\n",
      "http://www.telegraph.co.uk/motoring/carreviews/rss\n",
      "http://www.telegraph.co.uk/motoring/news/rss\n",
      "http://www.telegraph.co.uk/motoring/rss\n",
      "http://www.telegraph.co.uk/topics/christmas/rss\n",
      "http://www.telegraph.co.uk/comment/rss\n",
      "http://www.telegraph.co.uk/newsfeed/rss/arts-books-corduroy_mansions.xml\n",
      "http://www.telegraph.co.uk/sport/cricket/rss\n",
      "http://www.telegraph.co.uk/travel/cruises/rss\n",
      "http://www.telegraph.co.uk/culture/culturevideo/rss\n",
      "http://www.telegraph.co.uk/earth/earthnews/rss\n",
      "http://www.telegraph.co.uk/finance/economics/rss\n",
      "http://www.telegraph.co.uk/sport/motorsport/formulaone/rss\n",
      "http://www.telegraph.co.uk/family/rss\n",
      "20\n",
      "http://news.sky.com\n",
      "http://news.sky.com/feeds/rss/business.xml\n",
      "http://news.sky.com/feeds/rss/entertainment.xml\n",
      "http://news.sky.com/feeds/rss/politics.xml\n",
      "http://news.sky.com/feeds/rss/technology.xml\n",
      "http://news.sky.com/feeds/rss/home.xml\n",
      "http://news.sky.com/feeds/rss/uk.xml\n",
      "http://news.sky.com/feeds/rss/us.xml\n",
      "http://news.sky.com/feeds/rss/strange.xml\n",
      "http://news.sky.com/feeds/rss/world.xml\n",
      "http://feeds.skynews.com/feeds/rss/home.xml\n",
      "http://feeds.skynews.com/feeds/rss/uk.xml\n",
      "http://feeds.skynews.com/feeds/rss/world.xml\n",
      "http://feeds.skynews.com/feeds/rss/us.xml\n",
      "http://feeds.skynews.com/feeds/rss/business.xml\n",
      "http://feeds.skynews.com/feeds/rss/politics.xml\n",
      "http://feeds.skynews.com/feeds/rss/entertainment.xml\n",
      "MediaWords::ImportStories::Feedly:http://feeds.skynews.com/feeds/rss/home.xml\n",
      "http://feeds.skynews.com/feeds/rss/home.xml/?feed=rss2\n",
      "http://feeds.skynews.com/feeds/rss/home.xml\n",
      "20\n",
      "http://timesofindia.indiatimes.com/rssfeeds/442002.cms\n",
      "http://timesofindia.indiatimes.com/rssfeeds/671314.cms\n",
      "http://timesofindia.indiatimes.com/rssfeedsdefault.cms\n",
      "http://timesofindia.indiatimes.com/rssfeedmostread.cms\n",
      "http://timesofindia.indiatimes.com/rssfeeds/3947060.cms\n",
      "http://timesofindia.indiatimes.com/rssfeeds/1076365.cms\n",
      "http://timesofindia.indiatimes.com/rssfeeds/1898055.cms\n",
      "http://timesofindia.indiatimes.com/rssfeeds/2950623.cms\n",
      "http://timesofindia.indiatimes.com/rssfeeds/1898184.cms\n",
      "http://timesofindia.indiatimes.com/rssfeeds/7503091.cms\n",
      "http://timesofindia.indiatimes.com/rssfeeds/4719161.cms\n",
      "http://timesofindia.indiatimes.com/rssfeeds/2647163.cms\n",
      "http://timesofindia.indiatimes.com/rssfeeds/1898274.cms\n",
      "http://timesofindia.indiatimes.com/rssfeeds/3012535.cms\n",
      "http://timesofindia.indiatimes.com/rssfeeds/1898272.cms\n",
      "http://timesofindia.indiatimes.com/rssfeeds/6547154.cms\n",
      "http://timesofindia.indiatimes.com/rssfeeds/4118215.cms\n",
      "http://timesofindia.indiatimes.com/rssfeeds/3908999.cms\n",
      "http://timesofindia.indiatimes.com/rssfeeds/4719157.cms\n",
      "http://timesofindia.indiatimes.com/rssfeeds/3942695.cms\n",
      "3\n",
      "http://www.publicintegrity.org\n",
      "spider:http://www.publicintegrity.org\n",
      "https://www.publicintegrity.org/rss\n",
      "16\n",
      "http://presstv.com/rss\n",
      "http://presstv.com/rss/?section=3510212\n",
      "http://presstv.com/rss/?section=351020701\n",
      "http://presstv.com/rss/?section=3510203\n",
      "http://presstv.com/rss/?section=3510211\n",
      "http://presstv.com/rss/?section=3510208\n",
      "http://presstv.com/rss/?section=351020501\n",
      "http://presstv.com/rss/?section=351020601\n",
      "http://presstv.com/rss/?section=351020201\n",
      "http://presstv.com/rss/?section=351020401\n",
      "http://presstv.com/rss/?section=3510210\n",
      "http://presstv.com/rss/?section=351020101\n",
      "http://presstv.com\n",
      "http://presstv.com/RSS/MRSS/1\n",
      "http://www.presstv.com/RSS/MRSS/1\n",
      "http://presstv.com#spiderfeed\n",
      "10\n",
      "http://www.wfaa.com/newskiosk/rss/wfaalatest.xml\n",
      "http://www.wfaa.com/\n",
      "http://rssfeeds.wfaa.com/wfaa/entertainment\n",
      "http://rssfeeds.wfaa.com/wfaa/features\n",
      "http://rssfeeds.wfaa.com/wfaa/consumer\n",
      "http://rssfeeds.wfaa.com/wfaa/sports\n",
      "http://rssfeeds.wfaa.com/wfaa/family\n",
      "http://rssfeeds.wfaa.com/wfaa/local\n",
      "http://rssfeeds.wfaa.com/wfaa/home\n",
      "http://www.wfaa.com/#spiderfeed\n",
      "2\n",
      "http://www.ajc.com\n",
      "spider:http://www.ajc.com\n",
      "2\n",
      "http://philadelphia.cbslocal.com\n",
      "http://philadelphia.cbslocal.com/feed/\n",
      "3\n",
      "http://cn.linkedin.com/\n",
      "https://cn.linkedin.com/\n",
      "http://cn.linkedin.com/#spiderfeed\n",
      "2\n",
      "http://wkrg.com/\n",
      "http://wkrg.com/feed/\n",
      "1\n",
      "http://refugeeresettlementwatch.wordpress.com/\n",
      "1\n",
      "http://noisyroom.net\n",
      "3\n",
      "http://ipatriot.com/\n",
      "http://ipatriot.com/feed/\n",
      "MediaWords::ImportStories::Feedly:http://ipatriot.com/\n",
      "4\n",
      "http://ijr.com/\n",
      "http://ijr.com/feed/\n",
      "MediaWords::ImportStories::Feedly:http://ijr.com/\n",
      "https://ijr.com/feed/\n",
      "3\n",
      "http://www.lanouvellerepublique.fr/nr/flux/rss/Toute-zone\n",
      "http://www.lanouvellerepublique.fr/\n",
      "https://www.lanouvellerepublique.fr/\n",
      "2\n",
      "http://www.picardiegazette.fr/feed/\n",
      "https://www.picardiegazette.fr/feed/\n",
      "16\n",
      "http://www.lepoint.fr/rss.xml\n",
      "http://www.lepoint.fr/monde/rss.xml\n",
      "http://www.lepoint.fr/sport/rss.xml\n",
      "http://www.lepoint.fr/sante/rss.xml\n",
      "http://www.lepoint.fr/medias/rss.xml\n",
      "http://www.lepoint.fr/societe/rss.xml\n",
      "http://www.lepoint.fr/science/rss.xml\n",
      "http://www.lepoint.fr/culture/rss.xml\n",
      "http://www.lepoint.fr/economie/rss.xml\n",
      "http://www.lepoint.fr/insolite/rss.xml\n",
      "http://www.lepoint.fr/politique/rss.xml\n",
      "http://www.lepoint.fr/chroniques/rss.xml\n",
      "http://www.lepoint.fr/diaporamas/rss.xml\n",
      "http://www.lepoint.fr/art-de-vivre/rss.xml\n",
      "http://www.lepoint.fr/high-tech-internet/rss.xml\n",
      "http://www.lepoint.fr/\n",
      "1\n",
      "http://www.infoceane.com/\n",
      "1\n",
      "https://www.readmetro.com/fr/france/nantes/\n",
      "1\n",
      "http://tehelkahindi.com/feed/\n",
      "2\n",
      "http://www.divyabhaskar.co.in/\n",
      "https://www.divyabhaskar.co.in/\n",
      "20\n",
      "http://in.reuters.com\n",
      "spider:http://in.reuters.com\n",
      "http://feeds.reuters.com/reuters/INVideoEntertainment\n",
      "http://feeds.reuters.com/reuters/INVideoBreakingviews\n",
      "http://feeds.reuters.com/reuters/INentertainmentNews\n",
      "http://feeds.reuters.com/reuters/INVideoOddlyEnough\n",
      "http://feeds.reuters.com/reuters/INVideoMostWatched\n",
      "http://feeds.reuters.com/reuters/INVideoEnvironment\n",
      "http://feeds.reuters.com/reuters/INoddlyEnoughNews\n",
      "http://feeds.reuters.com/reuters/INVideoTechnology\n",
      "http://feeds.reuters.com/reuters/INVideoNewsmakers\n",
      "http://feeds.reuters.com/reuters/INtechnologyNews\n",
      "http://feeds.reuters.com/reuters/INVideoWorldNews\n",
      "http://feeds.reuters.com/reuters/INVideoRoughCuts\n",
      "http://feeds.reuters.com/reuters/INVideoLifestyle\n",
      "http://feeds.reuters.com/reuters/INsouthAsiaNews\n",
      "http://feeds.reuters.com/reuters/INVideoBusiness\n",
      "http://feeds.reuters.com/reuters/INbusinessNews\n",
      "http://feeds.reuters.com/reuters/INVideoTopNews\n",
      "http://feeds.reuters.com/reuters/INcricketNews\n",
      "2\n",
      "http://in.news.yahoo.com#spider\n",
      "https://in.news.yahoo.com/rss\n",
      "20\n",
      "http://indiatoday.intoday.in/#spider\n",
      "http://indiatoday.intoday.in/rss/homepage-topstories.jsp\n",
      "http://indiatoday.intoday.in/rss/article.jsp?sid=120\n",
      "http://indiatoday.intoday.in/rss/article.jsp?sid=150\n",
      "http://indiatoday.intoday.in/rss/article.jsp?sid=149\n",
      "http://indiatoday.intoday.in/rss/article.jsp?sid=146\n",
      "http://indiatoday.intoday.in/rss/article.jsp?sid=27\n",
      "http://indiatoday.intoday.in/rss/article.jsp?sid=41\n",
      "http://indiatoday.intoday.in/rss/article.jsp?sid=21\n",
      "http://indiatoday.intoday.in/rss/article.jsp?sid=25\n",
      "http://indiatoday.intoday.in/rss/article.jsp?sid=24\n",
      "http://indiatoday.intoday.in/rss/article.jsp?sid=36\n",
      "http://indiatoday.intoday.in/rss/article.jsp?sid=85\n",
      "http://indiatoday.intoday.in/rss/article.jsp?sid=61\n",
      "http://indiatoday.intoday.in/rss/article.jsp?sid=34\n",
      "http://indiatoday.intoday.in/rss/article.jsp?sid=30\n",
      "http://indiatoday.intoday.in/rss/gallery.jsp?pcid=0\n",
      "http://indiatoday.intoday.in/rss/article.jsp?sid=2\n",
      "http://indiatoday.intoday.in/rss/video.jsp?vcid=0\n",
      "http://indiatoday.intoday.in/rss/issue.jsp\n"
     ]
    },
    {
     "name": "stdout",
     "output_type": "stream",
     "text": [
      "2\n",
      "http://www.findingresult.com/?dn=theheritagenews.com&pid=9POR3TG0A\n",
      "http://www.theheritagenews.com/\n",
      "2\n",
      "http://www.kwese.com/rss.xml\n",
      "http://www.viasat1.com.gh/cgi-sys/suspendedpage.cgi\n",
      "2\n",
      "http://theheraldghana.com/\n",
      "http://theheraldghana.com/feed/\n",
      "3\n",
      "http://ghanamma.com/\n",
      "http://www.ghanamma.com/feed/\n",
      "https://www.ghanamma.com/feed/\n",
      "1\n",
      "http://exposeghana.com/feed/\n",
      "2\n",
      "http://boyaca.extra.com.co/\n",
      "http://boyaca.extra.com.co/rss.xml\n",
      "2\n",
      "http://www.superiodicoaldia.com/feed\n",
      "http://www.superiodicoaldia.com/\n",
      "2\n",
      "http://www.elmeridianodesucre.com.co/?format=feed&type=rss\n",
      "http://www.elmeridianodesucre.com.co/\n",
      "2\n",
      "http://www.lavozdelnorte.mx/index.php?format=feed&type=atom\n",
      "http://www.lavozdelnorte.mx\n",
      "1\n",
      "http://elperiodicodeportivo.com.co/rss.xml\n"
     ]
    }
   ],
   "source": [
    "with open('../data/feeds-via-API.csv', 'w') as csvfile:\n",
    "    spamwriter = csv.writer(csvfile, delimiter=',',\n",
    "                            quotechar='|', quoting=csv.QUOTE_MINIMAL)\n",
    "    spamwriter.writerow(['media_id','url','feed_url']) \n",
    "    for source in sources_dict:\n",
    "        feeds = mc.feedList(source['media_id'])\n",
    "        print(len(feeds))\n",
    "        for feed in feeds:\n",
    "            spamwriter.writerow([source['media_id'], source['url'], feed['url']])\n",
    "            print(feed['url'])\n",
    "            "
   ]
  },
  {
   "cell_type": "code",
   "execution_count": 32,
   "metadata": {},
   "outputs": [
    {
     "data": {
      "text/plain": [
       "{'feed_status': 'inactive',\n",
       " 'feed_type': 'syndicated',\n",
       " 'feeds_id': 28238,\n",
       " 'last_attempted_download_time': '2016-12-18 05:05:50.831552-05:00',\n",
       " 'last_new_story_time': '2014-06-11 07:19:34.702596-04:00',\n",
       " 'last_successful_download_time': '2016-12-18 05:48:02-05:00',\n",
       " 'media_id': 1747,\n",
       " 'name': 'Britney Spears | Mail Online',\n",
       " 'url': 'http://www.dailymail.co.uk/tvshowbiz/azstar/archives/britney-spears.rss'}"
      ]
     },
     "execution_count": 32,
     "metadata": {},
     "output_type": "execute_result"
    }
   ],
   "source": []
  },
  {
   "cell_type": "code",
   "execution_count": null,
   "metadata": {},
   "outputs": [],
   "source": []
  },
  {
   "cell_type": "code",
   "execution_count": 1,
   "metadata": {},
   "outputs": [],
   "source": [
    "from feed_seeker import find_feed_url"
   ]
  },
  {
   "cell_type": "code",
   "execution_count": 2,
   "metadata": {},
   "outputs": [
    {
     "data": {
      "text/plain": [
       "'http://www.rightwingwatch.org/feed/'"
      ]
     },
     "execution_count": 2,
     "metadata": {},
     "output_type": "execute_result"
    }
   ],
   "source": [
    "find_feed_url('http://www.rightwingwatch.org')"
   ]
  },
  {
   "cell_type": "code",
   "execution_count": null,
   "metadata": {},
   "outputs": [],
   "source": []
  },
  {
   "cell_type": "code",
   "execution_count": null,
   "metadata": {},
   "outputs": [],
   "source": []
  },
  {
   "cell_type": "code",
   "execution_count": null,
   "metadata": {},
   "outputs": [],
   "source": []
  }
 ],
 "metadata": {
  "kernelspec": {
   "display_name": "Python 3",
   "language": "python",
   "name": "python3"
  },
  "language_info": {
   "codemirror_mode": {
    "name": "ipython",
    "version": 3
   },
   "file_extension": ".py",
   "mimetype": "text/x-python",
   "name": "python",
   "nbconvert_exporter": "python",
   "pygments_lexer": "ipython3",
   "version": "3.6.4"
  }
 },
 "nbformat": 4,
 "nbformat_minor": 2
}
