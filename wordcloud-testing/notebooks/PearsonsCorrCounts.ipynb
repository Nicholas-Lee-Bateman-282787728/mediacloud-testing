{
 "cells": [
  {
   "cell_type": "code",
   "execution_count": 1,
   "metadata": {},
   "outputs": [],
   "source": [
    "## Standard imports\n",
    "%matplotlib inline\n",
    "import matplotlib.pyplot as plt\n",
    "import pandas \n",
    "from datetime import datetime\n",
    "import seaborn as sns\n",
    "import glob\n",
    "from os.path import basename\n",
    "sns.set_context('paper')\n",
    "import re\n",
    "import csv\n",
    "import json\n",
    "import time\n",
    "from scipy import stats\n",
    "import numpy as np"
   ]
  },
  {
   "cell_type": "markdown",
   "metadata": {},
   "source": [
    "## Updated code to compare single samples with increased terms, and bug fix for Tau"
   ]
  },
  {
   "cell_type": "code",
   "execution_count": 2,
   "metadata": {},
   "outputs": [],
   "source": [
    "topics = glob.glob('../data/sampling-100k/*')"
   ]
  },
  {
   "cell_type": "code",
   "execution_count": 3,
   "metadata": {
    "scrolled": true
   },
   "outputs": [
    {
     "name": "stdout",
     "output_type": "stream",
     "text": [
      "../data/sampling-100k/climate_change\n",
      "../data/sampling-100k/community_policing\n",
      "../data/sampling-100k/deep_state\n",
      "../data/sampling-100k/ebola\n",
      "../data/sampling-100k/gun_violence\n",
      "../data/sampling-100k/immigration\n",
      "../data/sampling-100k/network_neutrality\n",
      "../data/sampling-100k/teen_pregnancy\n",
      "../data/sampling-100k/us_election\n",
      "../data/sampling-100k/vaccines\n"
     ]
    }
   ],
   "source": [
    "for t in topics:\n",
    "    print(t)"
   ]
  },
  {
   "cell_type": "markdown",
   "metadata": {},
   "source": [
    "## First load and count words"
   ]
  },
  {
   "cell_type": "code",
   "execution_count": 18,
   "metadata": {
    "scrolled": true
   },
   "outputs": [
    {
     "name": "stdout",
     "output_type": "stream",
     "text": [
      "../data/sampling-100k/climate_change\n",
      "Number of unique stems in 1K: 2733\n",
      "Number of unique stems in 10K: 11432\n",
      "Number of unique stems in 100K: 33739\n",
      "\n",
      "../data/sampling-100k/community_policing\n",
      "empty\n",
      "../data/sampling-100k/deep_state\n",
      "Number of unique stems in 1K: 2532\n",
      "Number of unique stems in 10K: 12582\n",
      "Number of unique stems in 100K: 44161\n",
      "\n",
      "../data/sampling-100k/ebola\n",
      "Number of unique stems in 1K: 2463\n",
      "Number of unique stems in 10K: 10906\n",
      "Number of unique stems in 100K: 39754\n",
      "\n",
      "../data/sampling-100k/gun_violence\n",
      "Number of unique stems in 1K: 2887\n",
      "Number of unique stems in 10K: 12526\n",
      "Number of unique stems in 100K: 40741\n",
      "\n",
      "../data/sampling-100k/immigration\n",
      "Number of unique stems in 1K: 2789\n",
      "Number of unique stems in 10K: 11536\n",
      "Number of unique stems in 100K: 39041\n",
      "\n",
      "../data/sampling-100k/network_neutrality\n",
      "Number of unique stems in 1K: 1979\n",
      "Number of unique stems in 10K: 8650\n",
      "Number of unique stems in 100K: 25957\n",
      "\n",
      "../data/sampling-100k/teen_pregnancy\n",
      "Number of unique stems in 1K: 2127\n",
      "Number of unique stems in 10K: 8446\n",
      "Number of unique stems in 100K: 9470\n",
      "\n",
      "../data/sampling-100k/us_election\n",
      "Number of unique stems in 1K: 3189\n",
      "Number of unique stems in 10K: 15199\n",
      "Number of unique stems in 100K: 59703\n",
      "\n",
      "../data/sampling-100k/vaccines\n"
     ]
    },
    {
     "name": "stderr",
     "output_type": "stream",
     "text": [
      "/usr/local/lib/python3.6/site-packages/IPython/core/interactiveshell.py:2728: DtypeWarning: Columns (2,3) have mixed types. Specify dtype option on import or set low_memory=False.\n",
      "  interactivity=interactivity, compiler=compiler, result=result)\n"
     ]
    },
    {
     "name": "stdout",
     "output_type": "stream",
     "text": [
      "Number of unique stems in 1K: 2545\n",
      "Number of unique stems in 10K: 11814\n",
      "Number of unique stems in 100K: 42890\n",
      "\n"
     ]
    }
   ],
   "source": [
    "for t in topics:\n",
    "    topic_name = basename(t)\n",
    "    print(t)\n",
    "    # load data\n",
    "    one_k = pandas.read_csv(t + '/sample1000.csv', index_col=0)\n",
    "    ten_k = pandas.read_csv(t + '/sample10000.csv', index_col=0)\n",
    "    hundred_k = pandas.read_csv(t + '/sample100000.csv', index_col=0)\n",
    "    \n",
    "    \n",
    "    # drop if empty\n",
    "    if (one_k.empty or ten_k.empty or hundred_k.empty):\n",
    "        print(\"empty\")\n",
    "        continue\n",
    "        \n",
    "        \n",
    "    one_k = one_k.dropna()\n",
    "    ten_k = ten_k.dropna()\n",
    "    hundred_k = hundred_k.dropna()\n",
    "        \n",
    "    \n",
    "    print(\"Number of unique stems in 1K:\", len(one_k.stem.unique()))\n",
    "    print(\"Number of unique stems in 10K:\", len(ten_k.stem.unique()))\n",
    "    print(\"Number of unique stems in 100K:\", len(hundred_k.stem.unique()))\n",
    "    print(\"\") "
   ]
  },
  {
   "cell_type": "markdown",
   "metadata": {},
   "source": [
    "## Test weighted Tau"
   ]
  },
  {
   "cell_type": "code",
   "execution_count": 22,
   "metadata": {},
   "outputs": [],
   "source": [
    "from scipy.stats import weightedtau"
   ]
  },
  {
   "cell_type": "markdown",
   "metadata": {},
   "source": [
    "Compare two of the same"
   ]
  },
  {
   "cell_type": "code",
   "execution_count": 24,
   "metadata": {},
   "outputs": [
    {
     "data": {
      "text/plain": [
       "WeightedTauResult(correlation=0.99999999999999978, pvalue=nan)"
      ]
     },
     "execution_count": 24,
     "metadata": {},
     "output_type": "execute_result"
    }
   ],
   "source": [
    "weightedtau([1,2,3,4,5,6,7,8],[[1,2,3,4,5,6,7,8]])"
   ]
  },
  {
   "cell_type": "markdown",
   "metadata": {},
   "source": [
    "Swap high-rank (6 and 8)"
   ]
  },
  {
   "cell_type": "code",
   "execution_count": 25,
   "metadata": {},
   "outputs": [
    {
     "data": {
      "text/plain": [
       "WeightedTauResult(correlation=0.61454226894437147, pvalue=nan)"
      ]
     },
     "execution_count": 25,
     "metadata": {},
     "output_type": "execute_result"
    }
   ],
   "source": [
    "weightedtau([1,2,3,4,5,6,7,8],[[1,2,3,4,5,8,7,6]])"
   ]
  },
  {
   "cell_type": "markdown",
   "metadata": {},
   "source": [
    "Swap low rank (1 and 3, 2 and 3)\n"
   ]
  },
  {
   "cell_type": "code",
   "execution_count": 26,
   "metadata": {},
   "outputs": [
    {
     "data": {
      "text/plain": [
       "WeightedTauResult(correlation=0.52318378073962835, pvalue=nan)"
      ]
     },
     "execution_count": 26,
     "metadata": {},
     "output_type": "execute_result"
    }
   ],
   "source": [
    "weightedtau([1,2,3,4,5,6,7,8],[[3,2,1,4,5,8,7,6]])"
   ]
  },
  {
   "cell_type": "code",
   "execution_count": 27,
   "metadata": {},
   "outputs": [
    {
     "data": {
      "text/plain": [
       "WeightedTauResult(correlation=0.58200362930980543, pvalue=nan)"
      ]
     },
     "execution_count": 27,
     "metadata": {},
     "output_type": "execute_result"
    }
   ],
   "source": [
    " weightedtau([1,2,3,4,5,6,7,8],[[1,3,2,4,5,8,7,6]])"
   ]
  },
  {
   "cell_type": "markdown",
   "metadata": {},
   "source": [
    "## Correlating counts"
   ]
  },
  {
   "cell_type": "code",
   "execution_count": 53,
   "metadata": {},
   "outputs": [],
   "source": [
    "from scipy.stats import pearsonr"
   ]
  },
  {
   "cell_type": "code",
   "execution_count": 64,
   "metadata": {},
   "outputs": [
    {
     "name": "stdout",
     "output_type": "stream",
     "text": [
      "climate_change\n",
      "Pearson correlation, 1K:100K (0.9998725206911947, 6.6211289831971078e-178)\n",
      "Pearson correlation, 10K:100K (0.99997488752900077, 1.7783424008115234e-212)\n",
      "\n",
      "community_policing\n",
      "empty\n",
      "deep_state\n",
      "Pearson correlation, 1K:100K (0.9861667371768581, 2.6255632935354593e-78)\n",
      "Pearson correlation, 10K:100K (0.99939164417043047, 1.1835863280723839e-144)\n",
      "\n",
      "ebola\n",
      "Pearson correlation, 1K:100K (0.99969572682265739, 2.1503070970824527e-159)\n",
      "Pearson correlation, 10K:100K (0.99990543531029874, 2.9204115872097447e-184)\n",
      "\n",
      "gun_violence\n",
      "Pearson correlation, 1K:100K (0.99864713946268346, 1.1837606733509528e-127)\n",
      "Pearson correlation, 10K:100K (0.99926777830971913, 1.0368004001333353e-140)\n",
      "\n",
      "immigration\n",
      "Pearson correlation, 1K:100K (0.99969308668636103, 3.2834044806212231e-159)\n",
      "Pearson correlation, 10K:100K (0.99987259650241622, 6.4309288905145386e-178)\n",
      "\n",
      "network_neutrality\n",
      "Pearson correlation, 1K:100K (0.9986271338848639, 2.4290817547644429e-127)\n",
      "Pearson correlation, 10K:100K (0.99995818643581347, 1.2583575326131118e-201)\n",
      "\n",
      "teen_pregnancy\n",
      "Pearson correlation, 1K:100K (0.99952708801324386, 5.1891181540304393e-150)\n",
      "Pearson correlation, 10K:100K (0.99999004293970273, 3.6644849875142361e-232)\n",
      "\n",
      "us_election\n",
      "Pearson correlation, 1K:100K (0.9994170814612956, 1.4605597449649201e-145)\n",
      "Pearson correlation, 10K:100K (0.99990161065904071, 2.037691482079397e-183)\n",
      "\n",
      "vaccines\n",
      "Pearson correlation, 1K:100K (0.99977924272188601, 3.2008872097455988e-166)\n",
      "Pearson correlation, 10K:100K (0.99994541201754117, 5.9277032907969205e-196)\n",
      "\n"
     ]
    },
    {
     "name": "stderr",
     "output_type": "stream",
     "text": [
      "/usr/local/lib/python3.6/site-packages/IPython/core/interactiveshell.py:2728: DtypeWarning: Columns (2,3) have mixed types. Specify dtype option on import or set low_memory=False.\n",
      "  interactivity=interactivity, compiler=compiler, result=result)\n"
     ]
    }
   ],
   "source": [
    "for t in topics:\n",
    "    topic_name = basename(t)\n",
    "    print(topic_name)\n",
    "    # load data\n",
    "    one_k = pandas.read_csv(t + '/sample1000.csv', index_col=0)\n",
    "    ten_k = pandas.read_csv(t + '/sample10000.csv', index_col=0)\n",
    "    hundred_k = pandas.read_csv(t + '/sample100000.csv', index_col=0)\n",
    "    \n",
    "    \n",
    "    # drop if empty\n",
    "    if (one_k.empty or ten_k.empty or hundred_k.empty):\n",
    "        print(\"empty\")\n",
    "        continue\n",
    "        \n",
    "        \n",
    "    one_k = one_k.dropna()\n",
    "    ten_k = ten_k.dropna()\n",
    "    hundred_k = hundred_k.dropna()\n",
    "        \n",
    "    hundred_k.sort_values('count', ascending=False)[:100]\n",
    "\n",
    "    hundred_k_counts = hundred_k['count'][:100]\n",
    "    one_k_counts = one_k[one_k.index.isin(hundred_k.index[:100])]\n",
    "    ten_k_counts = ten_k[ten_k.index.isin(hundred_k.index[:100])]\n",
    "    \n",
    "    print(\"Pearson correlation, 1K:100K\", pearsonr(one_k_counts['count'].values, hundred_k_counts.values))\n",
    "    print(\"Pearson correlation, 10K:100K\", pearsonr(ten_k_counts['count'].values, hundred_k_counts.values))\n",
    "\n",
    "    print()"
   ]
  }
 ],
 "metadata": {
  "kernelspec": {
   "display_name": "Python 3",
   "language": "python",
   "name": "python3"
  },
  "language_info": {
   "codemirror_mode": {
    "name": "ipython",
    "version": 3
   },
   "file_extension": ".py",
   "mimetype": "text/x-python",
   "name": "python",
   "nbconvert_exporter": "python",
   "pygments_lexer": "ipython3",
   "version": "3.6.4"
  }
 },
 "nbformat": 4,
 "nbformat_minor": 2
}
