{
 "cells": [
  {
   "cell_type": "code",
   "execution_count": 1,
   "metadata": {},
   "outputs": [],
   "source": [
    "## Standard imports\n",
    "%matplotlib inline\n",
    "import matplotlib.pyplot as plt\n",
    "import pandas \n",
    "from datetime import datetime\n",
    "import seaborn as sns\n",
    "import glob\n",
    "from os.path import basename\n",
    "sns.set_context('paper')\n",
    "import re\n",
    "import csv\n",
    "import json\n",
    "import time\n",
    "from scipy import stats\n",
    "import numpy as np"
   ]
  },
  {
   "cell_type": "markdown",
   "metadata": {},
   "source": [
    "## Bootstrapping"
   ]
  },
  {
   "cell_type": "code",
   "execution_count": null,
   "metadata": {},
   "outputs": [],
   "source": [
    "topics = glob.glob('../data/sampling-100/*')"
   ]
  },
  {
   "cell_type": "code",
   "execution_count": 153,
   "metadata": {},
   "outputs": [
    {
     "data": {
      "text/plain": [
       "'vaccines'"
      ]
     },
     "execution_count": 153,
     "metadata": {},
     "output_type": "execute_result"
    }
   ],
   "source": [
    "basename(t)"
   ]
  },
  {
   "cell_type": "code",
   "execution_count": 157,
   "metadata": {},
   "outputs": [
    {
     "name": "stdout",
     "output_type": "stream",
     "text": [
      "../data/sampling-100/climate_change\n",
      "../data/sampling-100/community_policing\n",
      "../data/sampling-100/deep_state\n",
      "../data/sampling-100/ebola\n",
      "../data/sampling-100/gun_violence\n",
      "../data/sampling-100/immigration\n",
      "../data/sampling-100/network_neutrality\n",
      "../data/sampling-100/teen_pregnancy\n",
      "../data/sampling-100/us_election\n",
      "../data/sampling-100/vaccines\n"
     ]
    },
    {
     "data": {
      "image/png": "[encoded data removed]",
      "text/plain": [
       "<matplotlib.figure.Figure at 0x177202cc0>"
      ]
     },
     "metadata": {},
     "output_type": "display_data"
    }
   ],
   "source": [
    "for t in topics:\n",
    "    print(t)\n",
    "    one_k = glob.glob(test_topic + '/1000/*')\n",
    "    samples = []\n",
    "    for sample in one_k:\n",
    "        s = pandas.read_csv(sample,index_col=0)\n",
    "        s.set_index('stem', inplace=True)\n",
    "        samples.append(s['count'])\n",
    "    bigframe = pandas.concat(samples, axis=1) ## outer join default, which is what we want. the intersection\n",
    "    bigframe.columns = [\"count\" + str(i) for i in range(100)]\n",
    "    bigframe = bigframe.fillna(0) # count is 0 for samples in which word doesn't show up (use intersection)\n",
    "    bigframe = bigframe.sort_values('count0',ascending=False)\n",
    "    freqframe = pandas.DataFrame()\n",
    "    for c in bigframe.columns:\n",
    "        freqframe[c] = bigframe[c] / (bigframe[c].sum() *1.0)\n",
    "    freqframe.columns = [\"freq\" + str(i) for i in range(100)] \n",
    "    means = freqframe.mean(axis=1)\n",
    "    stds = freqframe.std(axis=1)\n",
    "    \n",
    "    freqframe['mean'] = means\n",
    "    freqframe['stds'] = stds\n",
    "    \n",
    "    freqframe['mean'][:10].plot.bar(yerr=freqframe['stds'])\n",
    "    plt.tight_layout()\n",
    "    plt.ylabel(\"Mean frequency of stem\")\n",
    "    plt.title(\"100 Samples, Topic:\" + basename(t))\n",
    "    plt.savefig('../fig/error-plots/' + basename(t) + '.png')\n",
    "    \n",
    "    freqframe.to_csv('../data/sampling-100-error/' + basename(t) + '.csv')\n",
    "    "
   ]
  }
 ],
 "metadata": {
  "kernelspec": {
   "display_name": "Python 3",
   "language": "python",
   "name": "python3"
  },
  "language_info": {
   "codemirror_mode": {
    "name": "ipython",
    "version": 3
   },
   "file_extension": ".py",
   "mimetype": "text/x-python",
   "name": "python",
   "nbconvert_exporter": "python",
   "pygments_lexer": "ipython3",
   "version": "3.6.4"
  }
 },
 "nbformat": 4,
 "nbformat_minor": 2
}
