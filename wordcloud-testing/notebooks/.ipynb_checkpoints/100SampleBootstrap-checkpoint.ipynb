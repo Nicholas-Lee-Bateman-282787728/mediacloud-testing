{
 "cells": [
  {
   "cell_type": "code",
   "execution_count": 1,
   "metadata": {},
   "outputs": [],
   "source": [
    "## Standard imports\n",
    "%matplotlib inline\n",
    "import matplotlib.pyplot as plt\n",
    "import pandas \n",
    "from datetime import datetime\n",
    "import seaborn as sns\n",
    "import glob\n",
    "from os.path import basename\n",
    "sns.set_context('paper')\n",
    "import re\n",
    "import csv\n",
    "import json\n",
    "import time\n",
    "from scipy import stats\n",
    "import numpy as np"
   ]
  },
  {
   "cell_type": "markdown",
   "metadata": {},
   "source": [
    "## Bootstrapping 1K samples"
   ]
  },
  {
   "cell_type": "code",
   "execution_count": 174,
   "metadata": {},
   "outputs": [
    {
     "name": "stdout",
     "output_type": "stream",
     "text": [
      "../data/sampling-100/climate_change\n",
      "../data/sampling-100/community_policing\n",
      "empty\n",
      "../data/sampling-100/deep_state\n",
      "../data/sampling-100/ebola\n",
      "../data/sampling-100/gun_violence\n",
      "../data/sampling-100/immigration\n",
      "../data/sampling-100/network_neutrality\n",
      "../data/sampling-100/teen_pregnancy\n",
      "../data/sampling-100/us_election\n",
      "../data/sampling-100/vaccines\n"
     ]
    },
    {
     "data": {
      "text/plain": [
       "<matplotlib.figure.Figure at 0x168d8fba8>"
      ]
     },
     "metadata": {},
     "output_type": "display_data"
    }
   ],
   "source": [
    "for t in topics:\n",
    "    print(t)\n",
    "    one_k = glob.glob(t+ '/1000/*')\n",
    "    samples = []\n",
    "    \n",
    "    for sample in one_k:\n",
    "        s = pandas.read_csv(sample,index_col=0, keep_default_na=False, na_values=[''],\n",
    "                 lineterminator='\\n')\n",
    "        # haha reading string nan as NaN breaks EVERYTHING\n",
    "        \n",
    "          # drop if empty\n",
    "        if (s.empty): \n",
    "            continue        \n",
    "        s.set_index('stem', inplace=True)\n",
    "        samples.append(s['count'])\n",
    "        \n",
    "    \n",
    "    if not samples:\n",
    "        print(\"empty\")\n",
    "        continue\n",
    "    \n",
    "    bigframe = pandas.concat(samples, axis=1) ## outer join default, which is what we want. the intersection\n",
    "    bigframe.columns = [\"count\" + str(i) for i in range(100)]\n",
    "    bigframe = bigframe.fillna(0) # count is 0 for samples in which word doesn't show up (use intersection)\n",
    "    bigframe = bigframe.sort_values('count0',ascending=False)\n",
    "    freqframe = pandas.DataFrame()\n",
    "    for c in bigframe.columns:\n",
    "        freqframe[c] = bigframe[c] / (bigframe[c].sum() *1.0)\n",
    "    freqframe.columns = [\"freq\" + str(i) for i in range(100)] \n",
    "    means = freqframe.mean(axis=1)\n",
    "    stds = freqframe.std(axis=1)\n",
    "    \n",
    "    freqframe['mean'] = means\n",
    "    freqframe['stds'] = stds\n",
    "    \n",
    "    freqframe['mean'][:20].plot.bar(yerr=freqframe['stds'])\n",
    "    plt.tight_layout()\n",
    "    plt.ylabel(\"Mean frequency of stem\")\n",
    "    plt.title(\"100 Samples, 1K size, Topic:\" + basename(t))\n",
    "    plt.savefig('../fig/error-plots-1K/' + basename(t) + '.png')\n",
    "    plt.clf()\n",
    "    freqframe[['mean','stds']].to_csv('../data/errors-1K/' + basename(t) + '.csv')\n",
    "    "
   ]
  },
  {
   "cell_type": "code",
   "execution_count": null,
   "metadata": {},
   "outputs": [],
   "source": []
  },
  {
   "cell_type": "markdown",
   "metadata": {},
   "source": [
    "## Bootstrapping 10K samples"
   ]
  },
  {
   "cell_type": "code",
   "execution_count": 175,
   "metadata": {},
   "outputs": [
    {
     "name": "stdout",
     "output_type": "stream",
     "text": [
      "../data/sampling-100/climate_change\n",
      "../data/sampling-100/community_policing\n",
      "empty\n",
      "../data/sampling-100/deep_state\n",
      "../data/sampling-100/ebola\n",
      "../data/sampling-100/gun_violence\n",
      "../data/sampling-100/immigration\n",
      "../data/sampling-100/network_neutrality\n",
      "../data/sampling-100/teen_pregnancy\n",
      "../data/sampling-100/us_election\n",
      "../data/sampling-100/vaccines\n"
     ]
    },
    {
     "data": {
      "text/plain": [
       "<matplotlib.figure.Figure at 0x198265d68>"
      ]
     },
     "metadata": {},
     "output_type": "display_data"
    }
   ],
   "source": [
    "for t in topics:\n",
    "    print(t)\n",
    "    one_k = glob.glob(t+ '/10000/*')\n",
    "    samples = []\n",
    "    \n",
    "    for sample in one_k:\n",
    "        s = pandas.read_csv(sample,index_col=0, keep_default_na=False, na_values=[''],\n",
    "                 lineterminator='\\n')\n",
    "        # haha reading string nan as NaN breaks EVERYTHING\n",
    "        \n",
    "          # drop if empty\n",
    "        if (s.empty): \n",
    "            continue        \n",
    "        s.set_index('stem', inplace=True)\n",
    "        samples.append(s['count'])\n",
    "        \n",
    "    \n",
    "    if not samples:\n",
    "        print(\"empty\")\n",
    "        continue\n",
    "    \n",
    "    bigframe = pandas.concat(samples, axis=1) ## outer join default, which is what we want. the intersection\n",
    "    bigframe.columns = [\"count\" + str(i) for i in range(100)]\n",
    "    bigframe = bigframe.fillna(0) # count is 0 for samples in which word doesn't show up (use intersection)\n",
    "    bigframe = bigframe.sort_values('count0',ascending=False)\n",
    "    freqframe = pandas.DataFrame()\n",
    "    for c in bigframe.columns:\n",
    "        freqframe[c] = bigframe[c] / (bigframe[c].sum() *1.0)\n",
    "    freqframe.columns = [\"freq\" + str(i) for i in range(100)] \n",
    "    means = freqframe.mean(axis=1)\n",
    "    stds = freqframe.std(axis=1)\n",
    "    \n",
    "    freqframe['mean'] = means\n",
    "    freqframe['stds'] = stds\n",
    "    \n",
    "    freqframe['mean'][:20].plot.bar(yerr=freqframe['stds'])\n",
    "    plt.tight_layout()\n",
    "    plt.ylabel(\"Mean frequency of stem\")\n",
    "    plt.title(\"100 Samples, 10K size, Topic:\" + basename(t))\n",
    "    plt.savefig('../fig/error-plots-10K/' + basename(t) + '.png')\n",
    "    plt.clf()\n",
    "    freqframe[['mean','stds']].to_csv('../data/errors-10K/' + basename(t) + '.csv')\n",
    "    "
   ]
  },
  {
   "cell_type": "code",
   "execution_count": null,
   "metadata": {},
   "outputs": [],
   "source": []
  }
 ],
 "metadata": {
  "kernelspec": {
   "display_name": "Python 3",
   "language": "python",
   "name": "python3"
  },
  "language_info": {
   "codemirror_mode": {
    "name": "ipython",
    "version": 3
   },
   "file_extension": ".py",
   "mimetype": "text/x-python",
   "name": "python",
   "nbconvert_exporter": "python",
   "pygments_lexer": "ipython3",
   "version": "3.6.4"
  }
 },
 "nbformat": 4,
 "nbformat_minor": 2
}
