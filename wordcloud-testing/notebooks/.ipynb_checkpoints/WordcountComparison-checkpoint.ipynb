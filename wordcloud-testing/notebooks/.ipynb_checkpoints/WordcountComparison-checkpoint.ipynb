{
 "cells": [
  {
   "cell_type": "code",
   "execution_count": 64,
   "metadata": {},
   "outputs": [],
   "source": [
    "## Standard imports\n",
    "%matplotlib inline\n",
    "import matplotlib.pyplot as plt\n",
    "import pandas \n",
    "from datetime import datetime\n",
    "import seaborn as sns\n",
    "import glob\n",
    "from os.path import basename\n",
    "sns.set_context('poster')\n",
    "import re\n",
    "import csv\n",
    "import json\n",
    "import time\n",
    "from scipy import stats\n",
    "import numpy as np"
   ]
  },
  {
   "cell_type": "markdown",
   "metadata": {},
   "source": [
    "## Analyze single samples. Code to compare two word distributions"
   ]
  },
  {
   "cell_type": "code",
   "execution_count": 3,
   "metadata": {},
   "outputs": [],
   "source": [
    "topics = glob.glob('../data/sampling/*')"
   ]
  },
  {
   "cell_type": "code",
   "execution_count": 4,
   "metadata": {},
   "outputs": [
    {
     "data": {
      "text/plain": [
       "['../data/sampling/climate_change',\n",
       " '../data/sampling/community_policing',\n",
       " '../data/sampling/deep_state',\n",
       " '../data/sampling/ebola',\n",
       " '../data/sampling/gun_violence',\n",
       " '../data/sampling/immigration',\n",
       " '../data/sampling/network_neutrality',\n",
       " '../data/sampling/teen_pregnancy',\n",
       " '../data/sampling/us_election',\n",
       " '../data/sampling/vaccines']"
      ]
     },
     "execution_count": 4,
     "metadata": {},
     "output_type": "execute_result"
    }
   ],
   "source": [
    "topics"
   ]
  },
  {
   "cell_type": "code",
   "execution_count": 5,
   "metadata": {},
   "outputs": [
    {
     "ename": "TypeError",
     "evalue": "list indices must be integers or slices, not str",
     "output_type": "error",
     "traceback": [
      "\u001b[0;31m-----------------------------------------------------------------------\u001b[0m",
      "\u001b[0;31mTypeError\u001b[0m                             Traceback (most recent call last)",
      "\u001b[0;32m<ipython-input-5-bf1873fdbedc>\u001b[0m in \u001b[0;36m<module>\u001b[0;34m()\u001b[0m\n\u001b[1;32m      1\u001b[0m \u001b[0;32mfor\u001b[0m \u001b[0mt\u001b[0m \u001b[0;32min\u001b[0m \u001b[0mtopics\u001b[0m\u001b[0;34m:\u001b[0m\u001b[0;34m\u001b[0m\u001b[0m\n\u001b[0;32m----> 2\u001b[0;31m     \u001b[0mone_k\u001b[0m \u001b[0;34m=\u001b[0m \u001b[0mpandas\u001b[0m\u001b[0;34m.\u001b[0m\u001b[0mread_csv\u001b[0m\u001b[0;34m(\u001b[0m\u001b[0mglob\u001b[0m\u001b[0;34m.\u001b[0m\u001b[0mglob\u001b[0m\u001b[0;34m(\u001b[0m\u001b[0mtopics\u001b[0m\u001b[0;34m[\u001b[0m\u001b[0mt\u001b[0m\u001b[0;34m]\u001b[0m \u001b[0;34m+\u001b[0m \u001b[0;34m'/1000/*'\u001b[0m\u001b[0;34m)\u001b[0m\u001b[0;34m[\u001b[0m\u001b[0;36m0\u001b[0m\u001b[0;34m]\u001b[0m\u001b[0;34m)\u001b[0m\u001b[0;34m\u001b[0m\u001b[0m\n\u001b[0m\u001b[1;32m      3\u001b[0m     \u001b[0mten_k\u001b[0m \u001b[0;34m=\u001b[0m \u001b[0mpandas\u001b[0m\u001b[0;34m.\u001b[0m\u001b[0mread_csv\u001b[0m\u001b[0;34m(\u001b[0m\u001b[0mglob\u001b[0m\u001b[0;34m.\u001b[0m\u001b[0mglob\u001b[0m\u001b[0;34m(\u001b[0m\u001b[0mtopics\u001b[0m\u001b[0;34m[\u001b[0m\u001b[0mt\u001b[0m\u001b[0;34m]\u001b[0m \u001b[0;34m+\u001b[0m \u001b[0;34m'/10000/*'\u001b[0m\u001b[0;34m)\u001b[0m\u001b[0;34m[\u001b[0m\u001b[0;36m0\u001b[0m\u001b[0;34m]\u001b[0m\u001b[0;34m)\u001b[0m\u001b[0;34m\u001b[0m\u001b[0m\n\u001b[1;32m      4\u001b[0m     \u001b[0mhundred_k\u001b[0m \u001b[0;34m=\u001b[0m \u001b[0mpandas\u001b[0m\u001b[0;34m.\u001b[0m\u001b[0mread_csv\u001b[0m\u001b[0;34m(\u001b[0m\u001b[0mglob\u001b[0m\u001b[0;34m.\u001b[0m\u001b[0mglob\u001b[0m\u001b[0;34m(\u001b[0m\u001b[0mtopics\u001b[0m\u001b[0;34m[\u001b[0m\u001b[0mt\u001b[0m\u001b[0;34m]\u001b[0m \u001b[0;34m+\u001b[0m \u001b[0;34m'/100000/*'\u001b[0m\u001b[0;34m)\u001b[0m\u001b[0;34m[\u001b[0m\u001b[0;36m0\u001b[0m\u001b[0;34m]\u001b[0m\u001b[0;34m)\u001b[0m\u001b[0;34m\u001b[0m\u001b[0m\n\u001b[1;32m      5\u001b[0m \u001b[0;34m\u001b[0m\u001b[0m\n",
      "\u001b[0;31mTypeError\u001b[0m: list indices must be integers or slices, not str"
     ]
    }
   ],
   "source": [
    "for t in topics:\n",
    "    one_k = pandas.read_csv(glob.glob(topics[t] + '/1000/*')[0])\n",
    "    ten_k = pandas.read_csv(glob.glob(topics[t] + '/10000/*')[0])\n",
    "    hundred_k = pandas.read_csv(glob.glob(topics[t] + '/100000/*')[0])\n",
    "    \n",
    "    if (one_k.empty or ten_k.empty or hundred_k.empty):\n",
    "        break\n",
    "    \n",
    "    # first test: How many top 100 words similar?\n",
    "    \n",
    "    \n",
    "    # second test: Plot all three charts: Is it logarithmic?\n",
    "   "
   ]
  },
  {
   "cell_type": "code",
   "execution_count": 38,
   "metadata": {},
   "outputs": [
    {
     "data": {
      "image/png": "[encoded data removed]",
      "text/plain": [
       "<matplotlib.figure.Figure at 0x10f8e7dd8>"
      ]
     },
     "metadata": {},
     "output_type": "display_data"
    }
   ],
   "source": [
    "plt.plot(one_k['count'], alpha=0.5, label='1K', color='red')\n",
    "plt.plot(ten_k['count'], alpha=0.5, label='10K')\n",
    "plt.xlabel('')\n",
    "plt.legend(loc='upper right')\n",
    "plt.show()"
   ]
  },
  {
   "cell_type": "code",
   "execution_count": 44,
   "metadata": {},
   "outputs": [
    {
     "name": "stderr",
     "output_type": "stream",
     "text": [
      "/Users/Cat/Library/Python/3.6/lib/python/site-packages/numpy/core/fromnumeric.py:57: FutureWarning: reshape is deprecated and will raise in a subsequent release. Please use .values.reshape(...) instead\n",
      "  return getattr(obj, method)(*args, **kwds)\n"
     ]
    },
    {
     "data": {
      "image/png": "[encoded data removed]",
      "text/plain": [
       "<matplotlib.figure.Figure at 0x10fae4080>"
      ]
     },
     "metadata": {},
     "output_type": "display_data"
    },
    {
     "name": "stderr",
     "output_type": "stream",
     "text": [
      "/Users/Cat/Library/Python/3.6/lib/python/site-packages/matplotlib/__init__.py:805: MatplotlibDeprecationWarning: axes.hold is deprecated. Please remove it from your matplotlibrc and/or style files.\n",
      "  mplDeprecation)\n",
      "/Users/Cat/Library/Python/3.6/lib/python/site-packages/matplotlib/rcsetup.py:155: MatplotlibDeprecationWarning: axes.hold is deprecated, will be removed in 3.0\n",
      "  mplDeprecation)\n"
     ]
    }
   ],
   "source": [
    "with plt.style.context('seaborn-deep'):\n",
    "    plt.hist([one_k['count'][:10], ten_k['count'][:10], hundred_k['count']][:10], bins=500,  label='1K')\n",
    "    plt.legend(loc='upper right')\n",
    "    plt.show()"
   ]
  },
  {
   "cell_type": "code",
   "execution_count": 46,
   "metadata": {
    "scrolled": true
   },
   "outputs": [
    {
     "data": {
      "image/png": "[encoded data removed]",
      "text/plain": [
       "<matplotlib.figure.Figure at 0x111f086a0>"
      ]
     },
     "metadata": {},
     "output_type": "display_data"
    }
   ],
   "source": [
    "plt.hist(one_k['count'][:10],bins=100, alpha=0.5, label='1K', color='red')\n",
    "plt.hist(ten_k['count'][:10],bins=100, alpha=0.5, label='10K')\n",
    "plt.hist(hundred_k['count'][:10],bins=100, alpha=0.5, label='100K')\n",
    "plt.legend(loc='upper right')\n",
    "plt.ylabel(\"words with that count\")\n",
    "plt.xlabel(\"word count\")\n",
    "plt.show()"
   ]
  },
  {
   "cell_type": "code",
   "execution_count": 62,
   "metadata": {},
   "outputs": [],
   "source": [
    "one_k = one_k.set_index('term')\n"
   ]
  },
  {
   "cell_type": "code",
   "execution_count": 65,
   "metadata": {},
   "outputs": [],
   "source": [
    "one_k['normalized_ct'] = one_k['count']/one_k['count'].max().astype(np.float64)"
   ]
  },
  {
   "cell_type": "code",
   "execution_count": 71,
   "metadata": {},
   "outputs": [],
   "source": [
    "ten_k = ten_k.set_index('term')\n",
    "ten_k['normalized_ct'] = ten_k['count']/ten_k['count'].max().astype(np.float64)"
   ]
  },
  {
   "cell_type": "code",
   "execution_count": 83,
   "metadata": {
    "scrolled": true
   },
   "outputs": [
    {
     "data": {
      "text/plain": [
       "<matplotlib.axes._subplots.AxesSubplot at 0x113e4b828>"
      ]
     },
     "execution_count": 83,
     "metadata": {},
     "output_type": "execute_result"
    },
    {
     "data": {
      "image/png": "[encoded data removed]",
      "text/plain": [
       "<matplotlib.figure.Figure at 0x113e4be48>"
      ]
     },
     "metadata": {},
     "output_type": "display_data"
    }
   ],
   "source": [
    "one_k['normalized_ct'][:20].plot(kind='bar')"
   ]
  },
  {
   "cell_type": "code",
   "execution_count": 94,
   "metadata": {},
   "outputs": [],
   "source": [
    "combined = pandas.concat([one_k['normalized_ct'][:20],\n",
    "               ten_k['normalized_ct'][:20]],\n",
    "              names=['one_k', 'ten_k'],\n",
    "              axis=1)\n"
   ]
  },
  {
   "cell_type": "code",
   "execution_count": 96,
   "metadata": {},
   "outputs": [],
   "source": [
    "combined.columns = ['one_k','ten_k']"
   ]
  },
  {
   "cell_type": "code",
   "execution_count": 99,
   "metadata": {},
   "outputs": [
    {
     "data": {
      "text/plain": [
       "Text(0,0.5,'Normalized counts')"
      ]
     },
     "execution_count": 99,
     "metadata": {},
     "output_type": "execute_result"
    },
    {
     "data": {
      "image/png": "[encoded data removed]",
      "text/plain": [
       "<matplotlib.figure.Figure at 0x11412c5c0>"
      ]
     },
     "metadata": {},
     "output_type": "display_data"
    }
   ],
   "source": [
    "combined.sort_values('ten_k',ascending=False).plot(kind='bar')\n",
    "plt.ylabel('Normalized counts')"
   ]
  },
  {
   "cell_type": "code",
   "execution_count": 51,
   "metadata": {
    "scrolled": false
   },
   "outputs": [
    {
     "data": {
      "text/plain": [
       "<matplotlib.axes._subplots.AxesSubplot at 0x1121cf940>"
      ]
     },
     "execution_count": 51,
     "metadata": {},
     "output_type": "execute_result"
    },
    {
     "data": {
      "image/png": "[encoded data removed]",
      "text/plain": [
       "<matplotlib.figure.Figure at 0x110ac2668>"
      ]
     },
     "metadata": {},
     "output_type": "display_data"
    },
    {
     "data": {
      "image/png": "[encoded data removed]",
      "text/plain": [
       "<matplotlib.figure.Figure at 0x111ff2208>"
      ]
     },
     "metadata": {},
     "output_type": "display_data"
    },
    {
     "data": {
      "image/png": "[encoded data removed]",
      "text/plain": [
       "<matplotlib.figure.Figure at 0x1120db860>"
      ]
     },
     "metadata": {},
     "output_type": "display_data"
    }
   ],
   "source": [
    "one_k[['term','count']][:10].plot(kind='bar',legend=True,label='1K', alpha=0.7) \n",
    "ten_k[['term','count']][:10].plot(kind='bar',legend=True, label='10K', alpha=0.7)\n",
    "hundred_k[['term','count']][:10].plot(kind='bar',legend=True, label='100K', alpha=0.7)\n"
   ]
  },
  {
   "cell_type": "code",
   "execution_count": 39,
   "metadata": {},
   "outputs": [
    {
     "data": {
      "text/html": [
       "<div>\n",
       "<style scoped>\n",
       "    .dataframe tbody tr th:only-of-type {\n",
       "        vertical-align: middle;\n",
       "    }\n",
       "\n",
       "    .dataframe tbody tr th {\n",
       "        vertical-align: top;\n",
       "    }\n",
       "\n",
       "    .dataframe thead th {\n",
       "        text-align: right;\n",
       "    }\n",
       "</style>\n",
       "<table border=\"1\" class=\"dataframe\">\n",
       "  <thead>\n",
       "    <tr style=\"text-align: right;\">\n",
       "      <th></th>\n",
       "      <th>Unnamed: 0</th>\n",
       "      <th>count</th>\n",
       "      <th>stem</th>\n",
       "      <th>term</th>\n",
       "    </tr>\n",
       "  </thead>\n",
       "  <tbody>\n",
       "    <tr>\n",
       "      <th>0</th>\n",
       "      <td>0</td>\n",
       "      <td>1151</td>\n",
       "      <td>vaccin</td>\n",
       "      <td>vaccine</td>\n",
       "    </tr>\n",
       "    <tr>\n",
       "      <th>1</th>\n",
       "      <td>1</td>\n",
       "      <td>123</td>\n",
       "      <td>children</td>\n",
       "      <td>children</td>\n",
       "    </tr>\n",
       "    <tr>\n",
       "      <th>2</th>\n",
       "      <td>2</td>\n",
       "      <td>89</td>\n",
       "      <td>immun</td>\n",
       "      <td>immune</td>\n",
       "    </tr>\n",
       "    <tr>\n",
       "      <th>3</th>\n",
       "      <td>3</td>\n",
       "      <td>64</td>\n",
       "      <td>autism</td>\n",
       "      <td>autism</td>\n",
       "    </tr>\n",
       "    <tr>\n",
       "      <th>4</th>\n",
       "      <td>4</td>\n",
       "      <td>54</td>\n",
       "      <td>measl</td>\n",
       "      <td>measles</td>\n",
       "    </tr>\n",
       "  </tbody>\n",
       "</table>\n",
       "</div>"
      ],
      "text/plain": [
       "   Unnamed: 0  count      stem      term\n",
       "0           0   1151    vaccin   vaccine\n",
       "1           1    123  children  children\n",
       "2           2     89     immun    immune\n",
       "3           3     64    autism    autism\n",
       "4           4     54     measl   measles"
      ]
     },
     "execution_count": 39,
     "metadata": {},
     "output_type": "execute_result"
    }
   ],
   "source": [
    "one_k.head()"
   ]
  },
  {
   "cell_type": "code",
   "execution_count": null,
   "metadata": {},
   "outputs": [],
   "source": []
  },
  {
   "cell_type": "code",
   "execution_count": 6,
   "metadata": {},
   "outputs": [],
   "source": [
    "one_k = pandas.read_csv(glob.glob(topics[-1] + '/1000/*')[0])"
   ]
  },
  {
   "cell_type": "code",
   "execution_count": 7,
   "metadata": {},
   "outputs": [],
   "source": [
    "ten_k = pandas.read_csv(glob.glob(topics[-1] + '/10000/*')[0])"
   ]
  },
  {
   "cell_type": "code",
   "execution_count": 8,
   "metadata": {},
   "outputs": [],
   "source": [
    "hundred_k = pandas.read_csv(glob.glob(topics[-1] + '/100000/*')[0])"
   ]
  },
  {
   "cell_type": "code",
   "execution_count": 22,
   "metadata": {},
   "outputs": [
    {
     "data": {
      "text/html": [
       "<div>\n",
       "<style scoped>\n",
       "    .dataframe tbody tr th:only-of-type {\n",
       "        vertical-align: middle;\n",
       "    }\n",
       "\n",
       "    .dataframe tbody tr th {\n",
       "        vertical-align: top;\n",
       "    }\n",
       "\n",
       "    .dataframe thead th {\n",
       "        text-align: right;\n",
       "    }\n",
       "</style>\n",
       "<table border=\"1\" class=\"dataframe\">\n",
       "  <thead>\n",
       "    <tr style=\"text-align: right;\">\n",
       "      <th></th>\n",
       "      <th>Unnamed: 0</th>\n",
       "      <th>count</th>\n",
       "      <th>stem</th>\n",
       "      <th>term</th>\n",
       "    </tr>\n",
       "  </thead>\n",
       "  <tbody>\n",
       "    <tr>\n",
       "      <th>0</th>\n",
       "      <td>0</td>\n",
       "      <td>1151</td>\n",
       "      <td>vaccin</td>\n",
       "      <td>vaccine</td>\n",
       "    </tr>\n",
       "    <tr>\n",
       "      <th>1</th>\n",
       "      <td>1</td>\n",
       "      <td>123</td>\n",
       "      <td>children</td>\n",
       "      <td>children</td>\n",
       "    </tr>\n",
       "    <tr>\n",
       "      <th>2</th>\n",
       "      <td>2</td>\n",
       "      <td>89</td>\n",
       "      <td>immun</td>\n",
       "      <td>immune</td>\n",
       "    </tr>\n",
       "    <tr>\n",
       "      <th>3</th>\n",
       "      <td>3</td>\n",
       "      <td>64</td>\n",
       "      <td>autism</td>\n",
       "      <td>autism</td>\n",
       "    </tr>\n",
       "    <tr>\n",
       "      <th>4</th>\n",
       "      <td>4</td>\n",
       "      <td>54</td>\n",
       "      <td>measl</td>\n",
       "      <td>measles</td>\n",
       "    </tr>\n",
       "    <tr>\n",
       "      <th>5</th>\n",
       "      <td>5</td>\n",
       "      <td>53</td>\n",
       "      <td>virus</td>\n",
       "      <td>virus</td>\n",
       "    </tr>\n",
       "    <tr>\n",
       "      <th>6</th>\n",
       "      <td>6</td>\n",
       "      <td>46</td>\n",
       "      <td>flu</td>\n",
       "      <td>flu</td>\n",
       "    </tr>\n",
       "    <tr>\n",
       "      <th>7</th>\n",
       "      <td>7</td>\n",
       "      <td>43</td>\n",
       "      <td>mmr</td>\n",
       "      <td>mmr</td>\n",
       "    </tr>\n",
       "    <tr>\n",
       "      <th>8</th>\n",
       "      <td>8</td>\n",
       "      <td>43</td>\n",
       "      <td>infect</td>\n",
       "      <td>infection</td>\n",
       "    </tr>\n",
       "    <tr>\n",
       "      <th>9</th>\n",
       "      <td>9</td>\n",
       "      <td>42</td>\n",
       "      <td>dose</td>\n",
       "      <td>doses</td>\n",
       "    </tr>\n",
       "    <tr>\n",
       "      <th>10</th>\n",
       "      <td>10</td>\n",
       "      <td>39</td>\n",
       "      <td>polio</td>\n",
       "      <td>polio</td>\n",
       "    </tr>\n",
       "    <tr>\n",
       "      <th>11</th>\n",
       "      <td>11</td>\n",
       "      <td>37</td>\n",
       "      <td>hpv</td>\n",
       "      <td>hpv</td>\n",
       "    </tr>\n",
       "    <tr>\n",
       "      <th>12</th>\n",
       "      <td>12</td>\n",
       "      <td>36</td>\n",
       "      <td>influenza</td>\n",
       "      <td>influenza</td>\n",
       "    </tr>\n",
       "    <tr>\n",
       "      <th>13</th>\n",
       "      <td>13</td>\n",
       "      <td>34</td>\n",
       "      <td>advers</td>\n",
       "      <td>adverse</td>\n",
       "    </tr>\n",
       "    <tr>\n",
       "      <th>14</th>\n",
       "      <td>14</td>\n",
       "      <td>34</td>\n",
       "      <td>child</td>\n",
       "      <td>child</td>\n",
       "    </tr>\n",
       "    <tr>\n",
       "      <th>15</th>\n",
       "      <td>15</td>\n",
       "      <td>32</td>\n",
       "      <td>studi</td>\n",
       "      <td>studies</td>\n",
       "    </tr>\n",
       "    <tr>\n",
       "      <th>16</th>\n",
       "      <td>16</td>\n",
       "      <td>28</td>\n",
       "      <td>diseas</td>\n",
       "      <td>diseases</td>\n",
       "    </tr>\n",
       "    <tr>\n",
       "      <th>17</th>\n",
       "      <td>17</td>\n",
       "      <td>27</td>\n",
       "      <td>cdc</td>\n",
       "      <td>cdc</td>\n",
       "    </tr>\n",
       "    <tr>\n",
       "      <th>18</th>\n",
       "      <td>18</td>\n",
       "      <td>25</td>\n",
       "      <td>outbreak</td>\n",
       "      <td>outbreak</td>\n",
       "    </tr>\n",
       "    <tr>\n",
       "      <th>19</th>\n",
       "      <td>19</td>\n",
       "      <td>24</td>\n",
       "      <td>pertussi</td>\n",
       "      <td>pertussis</td>\n",
       "    </tr>\n",
       "    <tr>\n",
       "      <th>21</th>\n",
       "      <td>21</td>\n",
       "      <td>22</td>\n",
       "      <td>anti-vaccin</td>\n",
       "      <td>anti-vaccine</td>\n",
       "    </tr>\n",
       "    <tr>\n",
       "      <th>20</th>\n",
       "      <td>20</td>\n",
       "      <td>22</td>\n",
       "      <td>administ</td>\n",
       "      <td>administered</td>\n",
       "    </tr>\n",
       "    <tr>\n",
       "      <th>22</th>\n",
       "      <td>22</td>\n",
       "      <td>21</td>\n",
       "      <td>efficaci</td>\n",
       "      <td>efficacy</td>\n",
       "    </tr>\n",
       "    <tr>\n",
       "      <th>23</th>\n",
       "      <td>23</td>\n",
       "      <td>21</td>\n",
       "      <td>cancer</td>\n",
       "      <td>cancer</td>\n",
       "    </tr>\n",
       "    <tr>\n",
       "      <th>24</th>\n",
       "      <td>24</td>\n",
       "      <td>20</td>\n",
       "      <td>infant</td>\n",
       "      <td>infants</td>\n",
       "    </tr>\n",
       "    <tr>\n",
       "      <th>25</th>\n",
       "      <td>25</td>\n",
       "      <td>20</td>\n",
       "      <td>childhood</td>\n",
       "      <td>childhood</td>\n",
       "    </tr>\n",
       "    <tr>\n",
       "      <th>26</th>\n",
       "      <td>26</td>\n",
       "      <td>19</td>\n",
       "      <td>rotavirus</td>\n",
       "      <td>rotavirus</td>\n",
       "    </tr>\n",
       "    <tr>\n",
       "      <th>27</th>\n",
       "      <td>27</td>\n",
       "      <td>19</td>\n",
       "      <td>ebola</td>\n",
       "      <td>ebola</td>\n",
       "    </tr>\n",
       "    <tr>\n",
       "      <th>28</th>\n",
       "      <td>28</td>\n",
       "      <td>18</td>\n",
       "      <td>american</td>\n",
       "      <td>american</td>\n",
       "    </tr>\n",
       "    <tr>\n",
       "      <th>29</th>\n",
       "      <td>29</td>\n",
       "      <td>17</td>\n",
       "      <td>smallpox</td>\n",
       "      <td>smallpox</td>\n",
       "    </tr>\n",
       "    <tr>\n",
       "      <th>...</th>\n",
       "      <td>...</td>\n",
       "      <td>...</td>\n",
       "      <td>...</td>\n",
       "      <td>...</td>\n",
       "    </tr>\n",
       "    <tr>\n",
       "      <th>73</th>\n",
       "      <td>73</td>\n",
       "      <td>9</td>\n",
       "      <td>fever</td>\n",
       "      <td>fever</td>\n",
       "    </tr>\n",
       "    <tr>\n",
       "      <th>72</th>\n",
       "      <td>72</td>\n",
       "      <td>9</td>\n",
       "      <td>induc</td>\n",
       "      <td>induced</td>\n",
       "    </tr>\n",
       "    <tr>\n",
       "      <th>70</th>\n",
       "      <td>70</td>\n",
       "      <td>9</td>\n",
       "      <td>inactiv</td>\n",
       "      <td>inactivated</td>\n",
       "    </tr>\n",
       "    <tr>\n",
       "      <th>69</th>\n",
       "      <td>69</td>\n",
       "      <td>9</td>\n",
       "      <td>pcv</td>\n",
       "      <td>pcv</td>\n",
       "    </tr>\n",
       "    <tr>\n",
       "      <th>68</th>\n",
       "      <td>68</td>\n",
       "      <td>9</td>\n",
       "      <td>licens</td>\n",
       "      <td>licensed</td>\n",
       "    </tr>\n",
       "    <tr>\n",
       "      <th>67</th>\n",
       "      <td>67</td>\n",
       "      <td>9</td>\n",
       "      <td>cervic</td>\n",
       "      <td>cervical</td>\n",
       "    </tr>\n",
       "    <tr>\n",
       "      <th>66</th>\n",
       "      <td>66</td>\n",
       "      <td>9</td>\n",
       "      <td>physician</td>\n",
       "      <td>physician</td>\n",
       "    </tr>\n",
       "    <tr>\n",
       "      <th>65</th>\n",
       "      <td>65</td>\n",
       "      <td>9</td>\n",
       "      <td>fda</td>\n",
       "      <td>fda</td>\n",
       "    </tr>\n",
       "    <tr>\n",
       "      <th>89</th>\n",
       "      <td>89</td>\n",
       "      <td>8</td>\n",
       "      <td>genet</td>\n",
       "      <td>genetic</td>\n",
       "    </tr>\n",
       "    <tr>\n",
       "      <th>87</th>\n",
       "      <td>87</td>\n",
       "      <td>8</td>\n",
       "      <td>viral</td>\n",
       "      <td>viral</td>\n",
       "    </tr>\n",
       "    <tr>\n",
       "      <th>88</th>\n",
       "      <td>88</td>\n",
       "      <td>8</td>\n",
       "      <td>dtap</td>\n",
       "      <td>dtap</td>\n",
       "    </tr>\n",
       "    <tr>\n",
       "      <th>85</th>\n",
       "      <td>85</td>\n",
       "      <td>8</td>\n",
       "      <td>wakefield</td>\n",
       "      <td>wakefield</td>\n",
       "    </tr>\n",
       "    <tr>\n",
       "      <th>90</th>\n",
       "      <td>90</td>\n",
       "      <td>8</td>\n",
       "      <td>vaccine-prevent</td>\n",
       "      <td>vaccine-preventable</td>\n",
       "    </tr>\n",
       "    <tr>\n",
       "      <th>91</th>\n",
       "      <td>91</td>\n",
       "      <td>8</td>\n",
       "      <td>merck</td>\n",
       "      <td>merck</td>\n",
       "    </tr>\n",
       "    <tr>\n",
       "      <th>86</th>\n",
       "      <td>86</td>\n",
       "      <td>8</td>\n",
       "      <td>tetanus</td>\n",
       "      <td>tetanus</td>\n",
       "    </tr>\n",
       "    <tr>\n",
       "      <th>78</th>\n",
       "      <td>78</td>\n",
       "      <td>8</td>\n",
       "      <td>pneumococc</td>\n",
       "      <td>pneumococcal</td>\n",
       "    </tr>\n",
       "    <tr>\n",
       "      <th>84</th>\n",
       "      <td>84</td>\n",
       "      <td>8</td>\n",
       "      <td>institut</td>\n",
       "      <td>institute</td>\n",
       "    </tr>\n",
       "    <tr>\n",
       "      <th>82</th>\n",
       "      <td>82</td>\n",
       "      <td>8</td>\n",
       "      <td>student</td>\n",
       "      <td>students</td>\n",
       "    </tr>\n",
       "    <tr>\n",
       "      <th>81</th>\n",
       "      <td>81</td>\n",
       "      <td>8</td>\n",
       "      <td>human</td>\n",
       "      <td>humans</td>\n",
       "    </tr>\n",
       "    <tr>\n",
       "      <th>80</th>\n",
       "      <td>80</td>\n",
       "      <td>8</td>\n",
       "      <td>sabin</td>\n",
       "      <td>sabin</td>\n",
       "    </tr>\n",
       "    <tr>\n",
       "      <th>79</th>\n",
       "      <td>79</td>\n",
       "      <td>8</td>\n",
       "      <td>risk</td>\n",
       "      <td>risks</td>\n",
       "    </tr>\n",
       "    <tr>\n",
       "      <th>83</th>\n",
       "      <td>83</td>\n",
       "      <td>8</td>\n",
       "      <td>hiv</td>\n",
       "      <td>hiv</td>\n",
       "    </tr>\n",
       "    <tr>\n",
       "      <th>102</th>\n",
       "      <td>102</td>\n",
       "      <td>7</td>\n",
       "      <td>mortal</td>\n",
       "      <td>mortality</td>\n",
       "    </tr>\n",
       "    <tr>\n",
       "      <th>111</th>\n",
       "      <td>111</td>\n",
       "      <td>7</td>\n",
       "      <td>screen</td>\n",
       "      <td>screening</td>\n",
       "    </tr>\n",
       "    <tr>\n",
       "      <th>110</th>\n",
       "      <td>110</td>\n",
       "      <td>7</td>\n",
       "      <td>brain</td>\n",
       "      <td>brain</td>\n",
       "    </tr>\n",
       "    <tr>\n",
       "      <th>109</th>\n",
       "      <td>109</td>\n",
       "      <td>7</td>\n",
       "      <td>popul</td>\n",
       "      <td>populations</td>\n",
       "    </tr>\n",
       "    <tr>\n",
       "      <th>108</th>\n",
       "      <td>108</td>\n",
       "      <td>7</td>\n",
       "      <td>meningococc</td>\n",
       "      <td>meningococcal</td>\n",
       "    </tr>\n",
       "    <tr>\n",
       "      <th>107</th>\n",
       "      <td>107</td>\n",
       "      <td>7</td>\n",
       "      <td>placebo</td>\n",
       "      <td>placebo</td>\n",
       "    </tr>\n",
       "    <tr>\n",
       "      <th>105</th>\n",
       "      <td>105</td>\n",
       "      <td>7</td>\n",
       "      <td>vaccine-induc</td>\n",
       "      <td>vaccine-induced</td>\n",
       "    </tr>\n",
       "    <tr>\n",
       "      <th>104</th>\n",
       "      <td>104</td>\n",
       "      <td>7</td>\n",
       "      <td>europ</td>\n",
       "      <td>europe</td>\n",
       "    </tr>\n",
       "  </tbody>\n",
       "</table>\n",
       "<p>100 rows × 4 columns</p>\n",
       "</div>"
      ],
      "text/plain": [
       "     Unnamed: 0  count             stem                 term\n",
       "0             0   1151           vaccin              vaccine\n",
       "1             1    123         children             children\n",
       "2             2     89            immun               immune\n",
       "3             3     64           autism               autism\n",
       "4             4     54            measl              measles\n",
       "5             5     53            virus                virus\n",
       "6             6     46              flu                  flu\n",
       "7             7     43              mmr                  mmr\n",
       "8             8     43           infect            infection\n",
       "9             9     42             dose                doses\n",
       "10           10     39            polio                polio\n",
       "11           11     37              hpv                  hpv\n",
       "12           12     36        influenza            influenza\n",
       "13           13     34           advers              adverse\n",
       "14           14     34            child                child\n",
       "15           15     32            studi              studies\n",
       "16           16     28           diseas             diseases\n",
       "17           17     27              cdc                  cdc\n",
       "18           18     25         outbreak             outbreak\n",
       "19           19     24         pertussi            pertussis\n",
       "21           21     22      anti-vaccin         anti-vaccine\n",
       "20           20     22         administ         administered\n",
       "22           22     21         efficaci             efficacy\n",
       "23           23     21           cancer               cancer\n",
       "24           24     20           infant              infants\n",
       "25           25     20        childhood            childhood\n",
       "26           26     19        rotavirus            rotavirus\n",
       "27           27     19            ebola                ebola\n",
       "28           28     18         american             american\n",
       "29           29     17         smallpox             smallpox\n",
       "..          ...    ...              ...                  ...\n",
       "73           73      9            fever                fever\n",
       "72           72      9            induc              induced\n",
       "70           70      9          inactiv          inactivated\n",
       "69           69      9              pcv                  pcv\n",
       "68           68      9           licens             licensed\n",
       "67           67      9           cervic             cervical\n",
       "66           66      9        physician            physician\n",
       "65           65      9              fda                  fda\n",
       "89           89      8            genet              genetic\n",
       "87           87      8            viral                viral\n",
       "88           88      8             dtap                 dtap\n",
       "85           85      8        wakefield            wakefield\n",
       "90           90      8  vaccine-prevent  vaccine-preventable\n",
       "91           91      8            merck                merck\n",
       "86           86      8          tetanus              tetanus\n",
       "78           78      8       pneumococc         pneumococcal\n",
       "84           84      8         institut            institute\n",
       "82           82      8          student             students\n",
       "81           81      8            human               humans\n",
       "80           80      8            sabin                sabin\n",
       "79           79      8             risk                risks\n",
       "83           83      8              hiv                  hiv\n",
       "102         102      7           mortal            mortality\n",
       "111         111      7           screen            screening\n",
       "110         110      7            brain                brain\n",
       "109         109      7            popul          populations\n",
       "108         108      7      meningococc        meningococcal\n",
       "107         107      7          placebo              placebo\n",
       "105         105      7    vaccine-induc      vaccine-induced\n",
       "104         104      7            europ               europe\n",
       "\n",
       "[100 rows x 4 columns]"
      ]
     },
     "execution_count": 22,
     "metadata": {},
     "output_type": "execute_result"
    }
   ],
   "source": [
    "one_k.sort_values('count', ascending=False)[:100]"
   ]
  },
  {
   "cell_type": "code",
   "execution_count": null,
   "metadata": {},
   "outputs": [],
   "source": []
  },
  {
   "cell_type": "code",
   "execution_count": null,
   "metadata": {},
   "outputs": [],
   "source": []
  },
  {
   "cell_type": "code",
   "execution_count": null,
   "metadata": {},
   "outputs": [],
   "source": []
  },
  {
   "cell_type": "code",
   "execution_count": null,
   "metadata": {},
   "outputs": [],
   "source": []
  },
  {
   "cell_type": "code",
   "execution_count": null,
   "metadata": {},
   "outputs": [],
   "source": []
  },
  {
   "cell_type": "code",
   "execution_count": null,
   "metadata": {},
   "outputs": [],
   "source": []
  },
  {
   "cell_type": "code",
   "execution_count": 8,
   "metadata": {},
   "outputs": [
    {
     "data": {
      "text/plain": [
       "['../data/sampling/climate_change/1000/sample0.csv',\n",
       " '../data/sampling/climate_change/1000/sample1.csv',\n",
       " '../data/sampling/climate_change/1000/sample2.csv',\n",
       " '../data/sampling/climate_change/1000/sample3.csv',\n",
       " '../data/sampling/climate_change/1000/sample4.csv',\n",
       " '../data/sampling/climate_change/1000/sample5.csv',\n",
       " '../data/sampling/climate_change/1000/sample6.csv',\n",
       " '../data/sampling/climate_change/1000/sample7.csv',\n",
       " '../data/sampling/climate_change/1000/sample8.csv',\n",
       " '../data/sampling/climate_change/1000/sample9.csv']"
      ]
     },
     "execution_count": 8,
     "metadata": {},
     "output_type": "execute_result"
    }
   ],
   "source": [
    "glob.glob(topics[0] + '/1000/*')"
   ]
  },
  {
   "cell_type": "code",
   "execution_count": null,
   "metadata": {},
   "outputs": [],
   "source": []
  },
  {
   "cell_type": "code",
   "execution_count": null,
   "metadata": {},
   "outputs": [],
   "source": []
  },
  {
   "cell_type": "code",
   "execution_count": null,
   "metadata": {},
   "outputs": [],
   "source": []
  },
  {
   "cell_type": "code",
   "execution_count": null,
   "metadata": {},
   "outputs": [],
   "source": []
  },
  {
   "cell_type": "markdown",
   "metadata": {},
   "source": [
    "### 1)  Immigration topic"
   ]
  },
  {
   "cell_type": "code",
   "execution_count": null,
   "metadata": {},
   "outputs": [],
   "source": []
  },
  {
   "cell_type": "code",
   "execution_count": null,
   "metadata": {},
   "outputs": [],
   "source": []
  },
  {
   "cell_type": "code",
   "execution_count": null,
   "metadata": {},
   "outputs": [],
   "source": []
  },
  {
   "cell_type": "code",
   "execution_count": null,
   "metadata": {},
   "outputs": [],
   "source": [
    "q = '+(immigra* OR migrat* OR migrant*) AND +(US OR \"united states\") and timespans_id:93598'"
   ]
  },
  {
   "cell_type": "code",
   "execution_count": null,
   "metadata": {},
   "outputs": [],
   "source": [
    "start = time.time()\n",
    "\n",
    "for N in [1000, 10000, 100000]:\n",
    "    print(\"\\n\\n\",\"N\",N)\n",
    "    for m in range(100):\n",
    "        print(\"SAMPLE: \", str(m))\n",
    "        start_s = time.time()\n",
    "        sample = mc.wordCount(q, sample_size=N)\n",
    "        print(\"TIME FOR API: \", str(time.time() - start_s), \" SEC\")\n",
    "        path = '../data/sampling/immigration/'+ str(N) + \"/sample\" + str(m) + \".csv\"\n",
    "        print(path)\n",
    "        pandas.read_json(json.dumps(sample), orient='records').to_csv(path)\n",
    "        \n",
    "print(\"TOTAL TIME FOR TOPIC: \", time.time() - start)"
   ]
  },
  {
   "cell_type": "code",
   "execution_count": null,
   "metadata": {},
   "outputs": [],
   "source": [
    "print(54)"
   ]
  },
  {
   "cell_type": "code",
   "execution_count": null,
   "metadata": {},
   "outputs": [],
   "source": []
  },
  {
   "cell_type": "code",
   "execution_count": null,
   "metadata": {},
   "outputs": [],
   "source": [
    "one_k = mc.wordCount('+(immigra* OR migrat* OR migrant*) AND +(US OR \"united states\") and timespans_id:93598', sample_size=1000)"
   ]
  },
  {
   "cell_type": "code",
   "execution_count": null,
   "metadata": {},
   "outputs": [],
   "source": [
    "ten_k = mc.wordCount('+(immigra* OR migrat* OR migrant*) AND +(US OR \"united states\") and timespans_id:93598', sample_size=10000)"
   ]
  },
  {
   "cell_type": "code",
   "execution_count": null,
   "metadata": {},
   "outputs": [],
   "source": [
    "hundred_k = mc.wordCount('+(immigra* OR migrat* OR migrant*) AND +(US OR \"united states\") and timespans_id:93598', sample_size=100000)"
   ]
  },
  {
   "cell_type": "code",
   "execution_count": null,
   "metadata": {},
   "outputs": [],
   "source": [
    "print(len(one_k))\n",
    "print(len(ten_k))\n",
    "print(len(hundred_k))"
   ]
  },
  {
   "cell_type": "code",
   "execution_count": null,
   "metadata": {},
   "outputs": [],
   "source": [
    "sns.distplot(list(pandas.read_json(json.dumps(one_k), orient='records').head(100)['count']))"
   ]
  },
  {
   "cell_type": "markdown",
   "metadata": {},
   "source": [
    "### 2) ebola\n"
   ]
  },
  {
   "cell_type": "code",
   "execution_count": null,
   "metadata": {},
   "outputs": [],
   "source": [
    "len(mc.wordCount('ebola and timespans_id:150307', sample_size=1000)  )"
   ]
  },
  {
   "cell_type": "code",
   "execution_count": null,
   "metadata": {},
   "outputs": [],
   "source": [
    " "
   ]
  },
  {
   "cell_type": "code",
   "execution_count": null,
   "metadata": {},
   "outputs": [],
   "source": []
  }
 ],
 "metadata": {
  "kernelspec": {
   "display_name": "Python 3",
   "language": "python",
   "name": "python3"
  },
  "language_info": {
   "codemirror_mode": {
    "name": "ipython",
    "version": 3
   },
   "file_extension": ".py",
   "mimetype": "text/x-python",
   "name": "python",
   "nbconvert_exporter": "python",
   "pygments_lexer": "ipython3",
   "version": "3.6.4"
  }
 },
 "nbformat": 4,
 "nbformat_minor": 2
}
